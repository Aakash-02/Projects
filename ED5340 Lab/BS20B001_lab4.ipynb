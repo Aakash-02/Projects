{
 "cells": [
  {
   "cell_type": "markdown",
   "metadata": {},
   "source": [
    "## Question 1"
   ]
  },
  {
   "cell_type": "code",
   "execution_count": 3,
   "metadata": {},
   "outputs": [
    {
     "name": "stdout",
     "output_type": "stream",
     "text": [
      "{1: 2, 2: 2, 3: 3, 4: 4, 5: 3, 6: 1, 7: 2, 8: 1, 9: 1}\n"
     ]
    }
   ],
   "source": [
    "lst = [1,3,4,2,1,2,5,4,7,6,5,3,4,8,9,3,4,5,7]\n",
    "dct = {}\n",
    "for i in lst:\n",
    "    if i in dct:\n",
    "        dct[i]+=1\n",
    "    else:\n",
    "        dct[i]=1\n",
    "keys = list(dct.keys())\n",
    "keys.sort()\n",
    "dct = {i:dct[i] for i in keys}\n",
    "print(dct)"
   ]
  },
  {
   "cell_type": "code",
   "execution_count": 4,
   "metadata": {},
   "outputs": [
    {
     "name": "stdout",
     "output_type": "stream",
     "text": [
      "max integer: 9 frequency: 1\n"
     ]
    }
   ],
   "source": [
    "print('max integer:',max(keys),'frequency:',dct[max(keys)])"
   ]
  },
  {
   "cell_type": "code",
   "execution_count": 5,
   "metadata": {},
   "outputs": [
    {
     "name": "stdout",
     "output_type": "stream",
     "text": [
      "List after removing duplicates:  [1, 3, 4, 2, 5, 7, 6, 8, 9]\n"
     ]
    }
   ],
   "source": [
    "new_lst = []\n",
    "[new_lst.append(i) for i in lst if i not in new_lst]\n",
    "print('List after removing duplicates: ',new_lst)"
   ]
  },
  {
   "cell_type": "code",
   "execution_count": 7,
   "metadata": {},
   "outputs": [
    {
     "name": "stdout",
     "output_type": "stream",
     "text": [
      "[1, 2, 3, 4, 5, 6, 7, 8, 9]\n"
     ]
    }
   ],
   "source": [
    "ord_set = set(lst)\n",
    "print(list(ord_set))"
   ]
  },
  {
   "cell_type": "markdown",
   "metadata": {},
   "source": [
    "## Question 2"
   ]
  },
  {
   "cell_type": "code",
   "execution_count": 47,
   "metadata": {},
   "outputs": [],
   "source": [
    "def sort(dct):\n",
    "    dct = dict(sorted(dct.items(), key=lambda x: x[1]['salary']))\n",
    "    return dct\n"
   ]
  },
  {
   "cell_type": "code",
   "execution_count": 48,
   "metadata": {},
   "outputs": [
    {
     "name": "stdout",
     "output_type": "stream",
     "text": [
      "{1111: {'Name': 'axe', 'salary': 10000, 'experience': 2}, 1423: {'Name': 'ben', 'salary': 15000, 'experience': 3}, 3425: {'Name': 'kevin', 'salary': 30000, 'experience': 5}}\n",
      "{1111: {'Name': 'axe', 'salary': 10000, 'experience': 2}, 1423: {'Name': 'ben', 'salary': 15000, 'experience': 3}, 2351: {'Name': 'ganes', 'salary': 24000, 'experience': 2.5}, 3425: {'Name': 'kevin', 'salary': 30000, 'experience': 5}}\n"
     ]
    }
   ],
   "source": [
    "employee_details = {1111:{'Name':'axe', 'salary': 10000, 'experience':2}, 3425:{'Name':'kevin', 'salary': 30000, 'experience':5}, 1423:{'Name':'ben', 'salary': 15000, 'experience':3}}\n",
    "sorted_employees = sort(employee_details)\n",
    "print(sorted_employees)\n",
    "employee_details[2351] = {'Name':'ganes', 'salary': 24000, 'experience':2.5}\n",
    "print(sort(employee_details))"
   ]
  },
  {
   "cell_type": "markdown",
   "metadata": {},
   "source": [
    "## Question 3"
   ]
  },
  {
   "cell_type": "code",
   "execution_count": 17,
   "metadata": {},
   "outputs": [],
   "source": [
    "def dic_sum(dct_a,dct_b):\n",
    "    dct_c={}\n",
    "    for i in dct_a.keys():\n",
    "        if(i in dct_b.keys()):\n",
    "            dct_c[i] = dct_a[i]+dct_b[i]\n",
    "        else:\n",
    "            dct_c[i] = dct_a[i]\n",
    "    for j in dct_b.keys():\n",
    "        if(j in dct_a.keys()):\n",
    "            dct_c[j] = dct_a[j]+dct_b[j]\n",
    "        else:\n",
    "            dct_c[j] = dct_b[j]\n",
    "    return dct_c"
   ]
  },
  {
   "cell_type": "code",
   "execution_count": 18,
   "metadata": {},
   "outputs": [
    {
     "name": "stdout",
     "output_type": "stream",
     "text": [
      "{'a': 3, 'b': 7, 'c': 11, 'd': 6}\n"
     ]
    }
   ],
   "source": [
    "dct_a = {'a':3,'b':5,'c':7}\n",
    "dct_b ={\"b\": 2, \"c\": 4, \"d\": 6}\n",
    "dct_c = dic_sum(dct_a,dct_b)\n",
    "print(dct_c)"
   ]
  },
  {
   "cell_type": "markdown",
   "metadata": {},
   "source": [
    "## Question 4"
   ]
  },
  {
   "cell_type": "code",
   "execution_count": 20,
   "metadata": {},
   "outputs": [],
   "source": [
    "def list_to_dict(lst):\n",
    "    dct={}\n",
    "    for i in lst:\n",
    "        dct[i[0]] = i[1]\n",
    "    return dct"
   ]
  },
  {
   "cell_type": "code",
   "execution_count": 21,
   "metadata": {},
   "outputs": [
    {
     "name": "stdout",
     "output_type": "stream",
     "text": [
      "{1: 2, 3: 4, 5: 6, 'axe': 45}\n"
     ]
    }
   ],
   "source": [
    "lst = [[1,2],[3,4],[5,6],['axe',45]]\n",
    "print(list_to_dict(lst))"
   ]
  },
  {
   "cell_type": "markdown",
   "metadata": {},
   "source": [
    "## Question 5"
   ]
  },
  {
   "cell_type": "code",
   "execution_count": 32,
   "metadata": {},
   "outputs": [],
   "source": [
    "def anagram_checker(lst):\n",
    "    count1=0\n",
    "    count2=0\n",
    "    for i in range(len(lst)-1):\n",
    "        for j in range(i+1,len(lst)):\n",
    "            if(sorted(lst[i])== sorted(lst[j])):\n",
    "                count1+=1\n",
    "        if(count1 == len(lst)-i+1):\n",
    "            count2+=1\n",
    "    if(count2 == len(lst)-1):\n",
    "        return True\n",
    "    else:\n",
    "        return False"
   ]
  },
  {
   "cell_type": "code",
   "execution_count": 33,
   "metadata": {},
   "outputs": [
    {
     "name": "stdout",
     "output_type": "stream",
     "text": [
      "False\n",
      "False\n"
     ]
    }
   ],
   "source": [
    "lst1 = ['triangle', 'integral', 'altering'] \n",
    "lst2 = ['world', 'hello', 'goodbye']\n",
    "print(anagram_checker(lst1))\n",
    "print(anagram_checker(lst2))"
   ]
  },
  {
   "cell_type": "markdown",
   "metadata": {},
   "source": [
    "## Question 6"
   ]
  },
  {
   "cell_type": "code",
   "execution_count": 47,
   "metadata": {},
   "outputs": [
    {
     "data": {
      "text/plain": [
       "{1: 1, 2: 4, 3: 9, 4: 16, 5: 25}"
      ]
     },
     "execution_count": 47,
     "metadata": {},
     "output_type": "execute_result"
    }
   ],
   "source": [
    "def square(x):\n",
    "    return x**2\n",
    "samp_lst = [1,2,3,4,5]\n",
    "sq_lst = list(map(square,samp_lst))\n",
    "dct_sq = {ite[0]:ite[1] for ite in zip(samp_lst,sq_lst)}\n",
    "dct_sq"
   ]
  },
  {
   "cell_type": "markdown",
   "metadata": {},
   "source": [
    "## Question 7"
   ]
  },
  {
   "cell_type": "code",
   "execution_count": 54,
   "metadata": {},
   "outputs": [],
   "source": [
    "def pascals_triangle(n):\n",
    "    n=n+1\n",
    "    for i in range(1,n+1):\n",
    "        c=1\n",
    "        for j in range(1,i+1):\n",
    "            print(c,end='')\n",
    "            c = int(c*(i-j)/j)\n",
    "        print('')"
   ]
  },
  {
   "cell_type": "code",
   "execution_count": 55,
   "metadata": {},
   "outputs": [
    {
     "name": "stdout",
     "output_type": "stream",
     "text": [
      "1\n",
      "11\n",
      "121\n",
      "1331\n"
     ]
    }
   ],
   "source": [
    "n=3\n",
    "pascals_triangle(n)"
   ]
  },
  {
   "cell_type": "markdown",
   "metadata": {},
   "source": [
    "## Question 8"
   ]
  },
  {
   "cell_type": "code",
   "execution_count": 50,
   "metadata": {},
   "outputs": [],
   "source": [
    "def rec_fibonacci(n):\n",
    "    if n<=1:\n",
    "        return n\n",
    "    else:\n",
    "        return (rec_fibonacci(n-1)+rec_fibonacci(n-2))"
   ]
  },
  {
   "cell_type": "code",
   "execution_count": 51,
   "metadata": {},
   "outputs": [],
   "source": [
    "def fibonacci(n):\n",
    "    fib = [0,1]\n",
    "    for i in range(2,n):\n",
    "        fib.append(fib[i-1]+fib[i-2])\n",
    "    return fib"
   ]
  },
  {
   "cell_type": "code",
   "execution_count": 85,
   "metadata": {},
   "outputs": [
    {
     "name": "stdout",
     "output_type": "stream",
     "text": [
      "enter your input:5\n",
      "0 1 1 2 3\n",
      "n is not present in the series\n"
     ]
    }
   ],
   "source": [
    "n = int(input('enter your input:'))\n",
    "fib = fibonacci(n)\n",
    "print(*fib)\n",
    "if n in fib:\n",
    "    print('n is present in the series')\n",
    "else:\n",
    "    print('n is not present in the series')"
   ]
  },
  {
   "cell_type": "code",
   "execution_count": 53,
   "metadata": {
    "scrolled": true
   },
   "outputs": [
    {
     "name": "stdout",
     "output_type": "stream",
     "text": [
      "enter your input:5\n",
      "0 1 1 2 3 \n",
      "\n",
      "n is not present in the series\n"
     ]
    }
   ],
   "source": [
    "n=int(input('enter your input:'))\n",
    "count = 0\n",
    "for i in range(n):\n",
    "    print(rec_fibonacci(i),end=' ')\n",
    "    if(i == n):\n",
    "        count = 1\n",
    "print('\\n')\n",
    "if(count>0):\n",
    "    print('n is present in the series')\n",
    "else:\n",
    "    print('n is not present in the series')"
   ]
  },
  {
   "cell_type": "markdown",
   "metadata": {},
   "source": [
    "## Question 9"
   ]
  },
  {
   "cell_type": "code",
   "execution_count": 64,
   "metadata": {},
   "outputs": [
    {
     "name": "stdout",
     "output_type": "stream",
     "text": [
      "[2, 4, 6, 8, 10, 12, 14, 16]\n"
     ]
    }
   ],
   "source": [
    "lst = [1,2,3,4,5,6,7,8,9,10,11,12,13,14,15,16]\n",
    "even_list = list(filter(lambda x: x % 2 == 0, lst))\n",
    "print(even_list)"
   ]
  },
  {
   "cell_type": "code",
   "execution_count": 67,
   "metadata": {},
   "outputs": [
    {
     "name": "stdout",
     "output_type": "stream",
     "text": [
      "even count:  8\n",
      "odd count:  8\n"
     ]
    }
   ],
   "source": [
    "odd_list = list(filter(lambda x: x % 2 != 0, lst))\n",
    "even_count = len(even_list)\n",
    "odd_count = len(odd_list)\n",
    "print('even count: ',even_count)\n",
    "print('odd count: ',odd_count)"
   ]
  },
  {
   "cell_type": "code",
   "execution_count": 1,
   "metadata": {},
   "outputs": [
    {
     "name": "stdout",
     "output_type": "stream",
     "text": [
      "[{'id': '102', 'name': 'Ricky', 'department': 'Electronics'}, {'id': '103', 'name': 'Shane', 'department': 'Auto'}, {'id': '101', 'name': 'zen', 'department': 'IT'}]\n"
     ]
    }
   ],
   "source": [
    "lst = [{'id': '101', 'name': 'zen', 'department': 'IT'}, {'id': '102', 'name': 'Ricky', 'department': 'Electronics'}, {'id': '103', 'name': 'Shane', 'department': 'Auto'}]\n",
    "sorted_lst = sorted(lst, key = lambda x:x['name'])\n",
    "print(sorted_lst)"
   ]
  },
  {
   "cell_type": "markdown",
   "metadata": {},
   "source": [
    "## Question 10"
   ]
  },
  {
   "cell_type": "code",
   "execution_count": 22,
   "metadata": {},
   "outputs": [],
   "source": [
    "def count_occurrences(N, M):\n",
    "    if N < M:\n",
    "        return 0\n",
    "    else:\n",
    "        # Count the occurrences of M in the last digit of N\n",
    "        count = 1 if N % 10 == M else 0\n",
    "        \n",
    "        # Count the occurrences of M in the remaining digits of N\n",
    "        count += count_occurrences(N // 10, M) if N >= 10 else 0\n",
    "        \n",
    "        # Recursively count the occurrences of M in all smaller numbers than N\n",
    "        count += count_occurrences(N - 1, M)\n",
    "        \n",
    "        return count"
   ]
  },
  {
   "cell_type": "code",
   "execution_count": 25,
   "metadata": {},
   "outputs": [
    {
     "name": "stdout",
     "output_type": "stream",
     "text": [
      "3\n"
     ]
    }
   ],
   "source": [
    "print(count_occurrences(27,3))"
   ]
  },
  {
   "cell_type": "markdown",
   "metadata": {},
   "source": [
    "## Question 11"
   ]
  },
  {
   "cell_type": "code",
   "execution_count": 2,
   "metadata": {},
   "outputs": [
    {
     "name": "stdout",
     "output_type": "stream",
     "text": [
      "Hello I am aakash and my age is 21\n",
      "Hello I am aakash and my age is 21\n",
      "Hello I am aakash and my age is 20\n",
      "Hello I am 20 and my age is aakash\n"
     ]
    }
   ],
   "source": [
    "def pos_key(name,age):\n",
    "    print('Hello I am {} and my age is {}'.format(name,age))\n",
    "#Calling using keyword arguments\n",
    "pos_key(name = 'aakash', age = 21)\n",
    "pos_key(age = 21, name ='aakash')\n",
    "#regardless of the order, I will get the same output\n",
    "\n",
    "#calling using positional arguments\n",
    "pos_key('aakash',20)\n",
    "pos_key(20,'aakash')\n",
    "#Here the output varies as I change the order."
   ]
  },
  {
   "cell_type": "markdown",
   "metadata": {},
   "source": [
    "## Question 12"
   ]
  },
  {
   "cell_type": "code",
   "execution_count": 3,
   "metadata": {},
   "outputs": [],
   "source": [
    "def min_find(*args):\n",
    "    mini = args[0]\n",
    "    for arg in args:\n",
    "        mini = min(mini,arg)\n",
    "    return mini"
   ]
  },
  {
   "cell_type": "code",
   "execution_count": 5,
   "metadata": {},
   "outputs": [
    {
     "name": "stdout",
     "output_type": "stream",
     "text": [
      "-6\n"
     ]
    }
   ],
   "source": [
    "print(min_find(23,54,1,6,-2,-6,22))"
   ]
  },
  {
   "cell_type": "markdown",
   "metadata": {},
   "source": [
    "## Question 13"
   ]
  },
  {
   "cell_type": "code",
   "execution_count": 3,
   "metadata": {},
   "outputs": [],
   "source": [
    "def concatenate_strings(**kwargs):\n",
    "    concatenated = \"\"\n",
    "    for key in kwargs:\n",
    "        concatenated += kwargs[key]\n",
    "    return concatenated"
   ]
  },
  {
   "cell_type": "code",
   "execution_count": 6,
   "metadata": {
    "scrolled": true
   },
   "outputs": [
    {
     "name": "stdout",
     "output_type": "stream",
     "text": [
      "ganeshisacoder\n"
     ]
    }
   ],
   "source": [
    "print(concatenate_strings(first = 'ganesh',second = 'is',third = 'a', fourth = 'coder'))"
   ]
  },
  {
   "cell_type": "markdown",
   "metadata": {},
   "source": [
    "## Question 14"
   ]
  },
  {
   "cell_type": "markdown",
   "metadata": {},
   "source": [
    "## The filter() function takes in two arguments: a function and an iterable object. It returns a new iterator with the elements from the original iterable object that return True when passed through the function. The function argument is a lambda function that defines the condition for filtering the iterable."
   ]
  },
  {
   "cell_type": "code",
   "execution_count": 70,
   "metadata": {},
   "outputs": [
    {
     "name": "stdout",
     "output_type": "stream",
     "text": [
      "[2, 4, 6, 8, 10, 12, 14, 16]\n"
     ]
    }
   ],
   "source": [
    "#filter function example\n",
    "lst = [1,2,3,4,5,6,7,8,9,10,11,12,13,14,15,16]\n",
    "even_list = list(filter(lambda x: x % 2 == 0, lst))\n",
    "print(even_list)"
   ]
  },
  {
   "cell_type": "markdown",
   "metadata": {},
   "source": [
    "## The reduce() function is used to apply a function to the items of an iterable, reducing them to a single value. The reduce() function takes two arguments: a function and an iterable object. The function argument is a lambda function that defines the operation to be performed on the iterable. The result of the function applied to the first two elements is used as the first argument to the function applied to the third element, and so on, until the iterable is exhausted and a single value is returned."
   ]
  },
  {
   "cell_type": "code",
   "execution_count": 72,
   "metadata": {},
   "outputs": [
    {
     "name": "stdout",
     "output_type": "stream",
     "text": [
      "136\n"
     ]
    }
   ],
   "source": [
    "#reduce function example\n",
    "from functools import reduce\n",
    "sum_of_numbers = reduce(lambda x, y: x + y, lst)\n",
    "print(sum_of_numbers)"
   ]
  }
 ],
 "metadata": {
  "kernelspec": {
   "display_name": "Python 3 (ipykernel)",
   "language": "python",
   "name": "python3"
  },
  "language_info": {
   "codemirror_mode": {
    "name": "ipython",
    "version": 3
   },
   "file_extension": ".py",
   "mimetype": "text/x-python",
   "name": "python",
   "nbconvert_exporter": "python",
   "pygments_lexer": "ipython3",
   "version": "3.9.13"
  },
  "vscode": {
   "interpreter": {
    "hash": "7dc15ad7ee82326811f753fdcb01fcd6bdced3ccdaa8f9c3f10d7de78499d08b"
   }
  }
 },
 "nbformat": 4,
 "nbformat_minor": 2
}
