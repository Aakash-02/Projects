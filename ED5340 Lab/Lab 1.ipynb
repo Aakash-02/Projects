{
 "cells": [
  {
   "cell_type": "markdown",
   "id": "41dae68b",
   "metadata": {},
   "source": [
    "# question 1"
   ]
  },
  {
   "cell_type": "code",
   "execution_count": 2,
   "id": "2da27781",
   "metadata": {},
   "outputs": [],
   "source": [
    "import math"
   ]
  },
  {
   "cell_type": "code",
   "execution_count": 7,
   "id": "57e2850c",
   "metadata": {},
   "outputs": [],
   "source": [
    "eqn_1 = 7*(math.log(5) + math.log((math.e)**3))\n",
    "eqn_2 = (1/math.sin(math.pi/3)) + (1/math.cos(math.pi*3))"
   ]
  },
  {
   "cell_type": "code",
   "execution_count": 8,
   "id": "ed9da5cf",
   "metadata": {},
   "outputs": [
    {
     "name": "stdout",
     "output_type": "stream",
     "text": [
      "32.2660653870387 0.15470053837925168\n"
     ]
    }
   ],
   "source": [
    "print(eqn_1, eqn_2)"
   ]
  },
  {
   "cell_type": "markdown",
   "id": "bbfc8809",
   "metadata": {},
   "source": [
    "## question 2"
   ]
  },
  {
   "cell_type": "code",
   "execution_count": 14,
   "id": "9b6f378f",
   "metadata": {},
   "outputs": [],
   "source": [
    "def oddcount(n1, n2):\n",
    "    num_of_odd = abs((n2-n1))//2\n",
    "    \n",
    "    if(n1%2 != 0 or n2%2 != 0):\n",
    "        num_of_odd +=1\n",
    "    return num_of_odd"
   ]
  },
  {
   "cell_type": "code",
   "execution_count": 17,
   "id": "1abab118",
   "metadata": {},
   "outputs": [
    {
     "name": "stdout",
     "output_type": "stream",
     "text": [
      "The number of odd numbers between 5 and 50 (both inclusive) is: 23\n"
     ]
    }
   ],
   "source": [
    "print('The number of odd numbers between 5 and 50 (both inclusive) is:',oddcount(5,50))"
   ]
  },
  {
   "cell_type": "markdown",
   "id": "53c56be4",
   "metadata": {},
   "source": [
    "## question 3"
   ]
  },
  {
   "cell_type": "code",
   "execution_count": 25,
   "id": "6ee96b41",
   "metadata": {},
   "outputs": [],
   "source": [
    "inputs = [100.496, 100.59,-100.496, -6.5, 4.25, 8.5, 9]"
   ]
  },
  {
   "cell_type": "markdown",
   "id": "adb5d201",
   "metadata": {},
   "source": [
    "## Trunc() this function returns the truncated integer part of any number"
   ]
  },
  {
   "cell_type": "code",
   "execution_count": 26,
   "id": "1b04d29e",
   "metadata": {},
   "outputs": [
    {
     "name": "stdout",
     "output_type": "stream",
     "text": [
      "100\n",
      "100\n",
      "-100\n",
      "-6\n",
      "4\n",
      "8\n",
      "9\n"
     ]
    }
   ],
   "source": [
    "for i in inputs:\n",
    "    print(math.trunc(i))"
   ]
  },
  {
   "cell_type": "markdown",
   "id": "fdaad6ad",
   "metadata": {},
   "source": [
    "## floor() this function rounds down the input to the nearest integer and returns the value"
   ]
  },
  {
   "cell_type": "code",
   "execution_count": 27,
   "id": "cd3b169a",
   "metadata": {},
   "outputs": [
    {
     "name": "stdout",
     "output_type": "stream",
     "text": [
      "100\n",
      "100\n",
      "-101\n",
      "-7\n",
      "4\n",
      "8\n",
      "9\n"
     ]
    }
   ],
   "source": [
    "for i in inputs:\n",
    "    print(math.floor(i))"
   ]
  },
  {
   "cell_type": "markdown",
   "id": "9430a949",
   "metadata": {},
   "source": [
    "## ceil() this function rounds down the input to the nearest integer and returns the value"
   ]
  },
  {
   "cell_type": "code",
   "execution_count": 29,
   "id": "e967dbf6",
   "metadata": {},
   "outputs": [
    {
     "name": "stdout",
     "output_type": "stream",
     "text": [
      "101\n",
      "101\n",
      "-100\n",
      "-6\n",
      "5\n",
      "9\n",
      "9\n"
     ]
    }
   ],
   "source": [
    "for i in inputs:\n",
    "    print(math.ceil(i))"
   ]
  },
  {
   "cell_type": "markdown",
   "id": "336ab206",
   "metadata": {},
   "source": [
    "## round() this function returns a floating point number to specified number of decimals"
   ]
  },
  {
   "cell_type": "code",
   "execution_count": 33,
   "id": "21aeeeac",
   "metadata": {},
   "outputs": [
    {
     "name": "stdout",
     "output_type": "stream",
     "text": [
      "100.5\n",
      "100.59\n",
      "-100.5\n",
      "-6.5\n",
      "4.25\n",
      "8.5\n",
      "9\n"
     ]
    }
   ],
   "source": [
    "for i in inputs:\n",
    "    print(round(i,2))"
   ]
  },
  {
   "cell_type": "markdown",
   "id": "0ec1c1c7",
   "metadata": {},
   "source": [
    "## question 4"
   ]
  },
  {
   "cell_type": "code",
   "execution_count": 37,
   "id": "eb83ba51",
   "metadata": {},
   "outputs": [],
   "source": [
    "import random\n",
    "def random_num_gen(seed, num, start, stop):\n",
    "    numbers = []\n",
    "    random.seed(seed)\n",
    "    for i in range(num):\n",
    "        numbers.append(random.randrange(start,stop))\n",
    "    return numbers\n",
    "\n",
    "def mean_calc(num):\n",
    "    n = len(num)\n",
    "    return sum(num)/n"
   ]
  },
  {
   "cell_type": "code",
   "execution_count": 43,
   "id": "173f9f3b",
   "metadata": {},
   "outputs": [
    {
     "name": "stdout",
     "output_type": "stream",
     "text": [
      "input seed number10\n",
      "input the number of numbers needed10\n",
      "random numbers between 5, 55:  [41, 7, 32, 35, 41, 5, 18, 34, 36, 22]\n",
      "mean of the random numbers 27.1\n"
     ]
    }
   ],
   "source": [
    "seed = int(input('input seed number'))\n",
    "num = int(input('input the number of numbers needed'))\n",
    "num = random_num_gen(seed, num, 5, 55 )\n",
    "print('random numbers between 5, 55: ', num)\n",
    "mean = mean_calc(num)\n",
    "print('mean of the random numbers', mean)"
   ]
  },
  {
   "cell_type": "markdown",
   "id": "7e3c64c2",
   "metadata": {},
   "source": [
    "## question 5"
   ]
  },
  {
   "cell_type": "code",
   "execution_count": 46,
   "id": "5978b403",
   "metadata": {},
   "outputs": [
    {
     "name": "stdout",
     "output_type": "stream",
     "text": [
      "Enter the value for a: 1\n",
      "Enter the value for b: 2\n",
      "Enter the value for c: 3\n",
      "The roots are : 0.7320508075688772 , -2.732050807568877\n"
     ]
    }
   ],
   "source": [
    "a = float(input('Enter the value for a: '))\n",
    "b = float(input('Enter the value for b: '))\n",
    "c = float(input('Enter the value for c: '))\n",
    "\n",
    "x1 = (-b+math.sqrt(4*a*c))/(2*a)\n",
    "x2 = (-b-math.sqrt(4*a*c))/(2*a)\n",
    "print('The roots are :', x1,',',x2)"
   ]
  },
  {
   "cell_type": "markdown",
   "id": "17f21d74",
   "metadata": {},
   "source": [
    "## question 6"
   ]
  },
  {
   "cell_type": "code",
   "execution_count": 49,
   "id": "01023b8b",
   "metadata": {},
   "outputs": [
    {
     "name": "stdout",
     "output_type": "stream",
     "text": [
      "H\n"
     ]
    }
   ],
   "source": [
    "inp = 'PYTHON'\n",
    "##printing H\n",
    "for i in inp:\n",
    "    if i =='H':\n",
    "        print(i)"
   ]
  },
  {
   "cell_type": "code",
   "execution_count": 50,
   "id": "39fc32fc",
   "metadata": {},
   "outputs": [
    {
     "name": "stdout",
     "output_type": "stream",
     "text": [
      "P\n",
      "Y\n",
      "T\n"
     ]
    }
   ],
   "source": [
    "##printing first 3 letters of python\n",
    "\n",
    "for i in range(3):\n",
    "    print(inp[i])"
   ]
  },
  {
   "cell_type": "code",
   "execution_count": 52,
   "id": "8bf348b4",
   "metadata": {},
   "outputs": [
    {
     "name": "stdout",
     "output_type": "stream",
     "text": [
      "H\n",
      "O\n",
      "N\n"
     ]
    }
   ],
   "source": [
    "#printing last 3 letters of python\n",
    "for i in range(len(inp)-3,len(inp)):\n",
    "    print(inp[i])"
   ]
  },
  {
   "cell_type": "code",
   "execution_count": 56,
   "id": "22c9f299",
   "metadata": {},
   "outputs": [
    {
     "name": "stdout",
     "output_type": "stream",
     "text": [
      "NOHTYP\n"
     ]
    }
   ],
   "source": [
    "##Reversing the string\n",
    "rev_string = inp[::-1]\n",
    "print(rev_string)"
   ]
  }
 ],
 "metadata": {
  "kernelspec": {
   "display_name": "Python 3",
   "language": "python",
   "name": "python3"
  },
  "language_info": {
   "codemirror_mode": {
    "name": "ipython",
    "version": 3
   },
   "file_extension": ".py",
   "mimetype": "text/x-python",
   "name": "python",
   "nbconvert_exporter": "python",
   "pygments_lexer": "ipython3",
   "version": "3.8.8"
  }
 },
 "nbformat": 4,
 "nbformat_minor": 5
}
