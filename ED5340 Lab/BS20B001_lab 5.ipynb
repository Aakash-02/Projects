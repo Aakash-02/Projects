{
 "cells": [
  {
   "cell_type": "markdown",
   "id": "a729fbc1",
   "metadata": {},
   "source": [
    "## Question 1"
   ]
  },
  {
   "cell_type": "code",
   "execution_count": 5,
   "id": "a0abdbec",
   "metadata": {},
   "outputs": [],
   "source": [
    "class Complex:\n",
    "    def __init__(self,r=0,i=0):\n",
    "        self._re = r\n",
    "        self._im = i\n",
    "    def addition(self,c):\n",
    "        c1 = Complex()\n",
    "        c1._re= self._re + c._re\n",
    "        c1._im= self._im + c._im\n",
    "        return c1\n",
    "    def subraction(self,c):\n",
    "        c1 = Complex()\n",
    "        c1._re= self._re - c._re\n",
    "        c1._im= self._im - c._im\n",
    "        return c1\n",
    "    def multiplication(self,c):\n",
    "        c1 = Complex()\n",
    "        c1._re = (self._re*c._re)-(self._im*c._im)\n",
    "        c1._im = (self._re*c._im)+(self._im*c._re)\n",
    "        return c1\n",
    "    def division(self,c):\n",
    "        c1 = Complex()\n",
    "        c1._re = ((self._re*c._re)+(self._im*c._im))/(c._re**2+c._im**2)\n",
    "        c1._im = ((self._im*c._re)-(self._re*c._im))/(c._re**2+c._im**2)\n",
    "        return c1\n",
    "    def printout(self):\n",
    "        print('{}+i{}'.format(self._re,self._im))"
   ]
  },
  {
   "cell_type": "code",
   "execution_count": 6,
   "id": "f437b87b",
   "metadata": {
    "scrolled": true
   },
   "outputs": [
    {
     "name": "stdout",
     "output_type": "stream",
     "text": [
      "6+i8\n",
      "2+i2\n",
      "-7+i22\n",
      "1.7692307692307692+i-0.15384615384615385\n"
     ]
    }
   ],
   "source": [
    "c1 = Complex(4,5)\n",
    "c2 = Complex(2,3)\n",
    "c3 = c1.addition(c2)\n",
    "c3.printout()\n",
    "c3 = c1.subraction(c2)\n",
    "c3.printout()\n",
    "c3 = c1.multiplication(c2)\n",
    "c3.printout()\n",
    "c3 = c1.division(c2)\n",
    "c3.printout()"
   ]
  },
  {
   "cell_type": "code",
   "execution_count": 7,
   "id": "d30d6bf1",
   "metadata": {},
   "outputs": [],
   "source": [
    "class Complex:\n",
    "    def __init__(self,r=0,i=0):\n",
    "        self._re = r\n",
    "        self._im = i\n",
    "    def __add__(self,c):\n",
    "        c1 = Complex()\n",
    "        c1._re= self._re + c._re\n",
    "        c1._im= self._im + c._im\n",
    "        return c1\n",
    "    def __sub__(self,c):\n",
    "        c1 = Complex()\n",
    "        c1._re= self._re - c._re\n",
    "        c1._im= self._im - c._im\n",
    "        return c1\n",
    "    def __mul__(self,c):\n",
    "        c1 = Complex()\n",
    "        c1._re = (self._re*c._re)-(self._im*c._im)\n",
    "        c1._im = (self._re*c._im)+(self._im*c._re)\n",
    "        return c1\n",
    "    def __truediv__(self,c):\n",
    "        c1 = Complex()\n",
    "        c1._re = ((self._re*c._re)+(self._im*c._im))/(c._re**2+c._im**2)\n",
    "        c1._im = ((self._im*c._re)-(self._re*c._im))/(c._re**2+c._im**2)\n",
    "        return c1\n",
    "    def __floordiv__(self,c):\n",
    "        c1 = Complex()\n",
    "        c1._re = ((self._re*c._re)+(self._im*c._im))/(c._re**2+c._im**2)\n",
    "        c1._im = ((self._im*c._re)-(self._re*c._im))/(c._re**2+c._im**2)\n",
    "        return c1\n",
    "    def printout(self):\n",
    "        print('{}+i{}'.format(self._re,self._im))"
   ]
  },
  {
   "cell_type": "code",
   "execution_count": 8,
   "id": "29c6fd56",
   "metadata": {},
   "outputs": [
    {
     "name": "stdout",
     "output_type": "stream",
     "text": [
      "6+i8\n",
      "2+i2\n",
      "-7+i22\n",
      "1.7692307692307692+i-0.15384615384615385\n",
      "1.7692307692307692+i-0.15384615384615385\n"
     ]
    }
   ],
   "source": [
    "c1 = Complex(4,5)\n",
    "c2 = Complex(2,3)\n",
    "c3 = c1+c2\n",
    "c3.printout()\n",
    "c3 = c1-c2\n",
    "c3.printout()\n",
    "c3 = c1*c2\n",
    "c3.printout()\n",
    "c3 = c1/c2\n",
    "c3.printout()\n",
    "c3 = c1//c2\n",
    "c3.printout()"
   ]
  },
  {
   "cell_type": "markdown",
   "id": "f546600c",
   "metadata": {},
   "source": [
    "## Question 2"
   ]
  },
  {
   "cell_type": "code",
   "execution_count": 45,
   "id": "09651864",
   "metadata": {},
   "outputs": [],
   "source": [
    "import random\n",
    "class Matrix:\n",
    "    def __init__(self,m=1,n=1):\n",
    "        self._mat = [[random.randint(0,10) for j in range(n)] for i in range(m)]\n",
    "    def __add__(self,m):\n",
    "        m1 = Matrix()\n",
    "        m1._mat = [[sum(ite)for ite in zip(*it)]for it in zip(self._mat,m._mat)]\n",
    "        return m1\n",
    "    def __sub__(self,m):\n",
    "        m1 = Matrix()\n",
    "        m1._mat = [[ite[0]-ite[1]for ite in zip(*it)]for it in zip(self._mat,m._mat)]\n",
    "        return m1\n",
    "    def __mul__(self,m):\n",
    "        m1 = Matrix()\n",
    "        m1._mat = [[sum(self._mat[i][k]* m._mat[k][j] for k in range(len(m._mat)))for j in range(len(m._mat[0]))]for i in range(len(self._mat))]\n",
    "        return m1\n",
    "    def scalar_mul(self):\n",
    "        x = int(input())\n",
    "        def mult(a,k = x):\n",
    "            return a*k\n",
    "        m1 = Matrix()\n",
    "        m1._mat = [list(map(mult,i)) for i in self._mat]\n",
    "        return m1\n",
    "    def printout(self):\n",
    "        print(self._mat)"
   ]
  },
  {
   "cell_type": "code",
   "execution_count": 46,
   "id": "ab84215f",
   "metadata": {},
   "outputs": [
    {
     "name": "stdout",
     "output_type": "stream",
     "text": [
      "2\n",
      "3\n",
      "3\n",
      "2\n",
      "[[0, 1, 8], [2, 9, 0]]\n",
      "[[1, 6], [3, 7], [9, 8]]\n",
      "[[1, 7], [5, 16]]\n",
      "[[-1, -5], [-1, 2]]\n",
      "[[75, 71], [29, 75]]\n",
      "2\n",
      "[[0, 2, 16], [4, 18, 0]]\n"
     ]
    }
   ],
   "source": [
    "m1 = Matrix(int(input()),int(input()))\n",
    "m2 = Matrix(int(input()),int(input()))\n",
    "m1.printout()\n",
    "m2.printout()\n",
    "m3 = Matrix()\n",
    "m3 = m1+m2\n",
    "m3.printout()\n",
    "m3 = m1-m2\n",
    "m3.printout()\n",
    "m3 = m1*m2\n",
    "m3.printout()\n",
    "m3 = m1.scalar_mul()\n",
    "m3.printout()"
   ]
  },
  {
   "cell_type": "markdown",
   "id": "db7cc1a2",
   "metadata": {},
   "source": [
    "## Question 3"
   ]
  },
  {
   "cell_type": "code",
   "execution_count": 78,
   "id": "ff9e0110",
   "metadata": {},
   "outputs": [],
   "source": [
    "class Complex:\n",
    "    def __init__(self,r=0,i=0):\n",
    "        self._re = r\n",
    "        self._im = i\n",
    "        print('{}+i{}'.format(self._re,self._im))\n",
    "    def printout(self):\n",
    "        print('{}+i{}'.format(self._re,self._im))\n",
    "class Operations(Complex):\n",
    "    def __init__(self,r=0,i=0):\n",
    "        super().__init__(r,i)\n",
    "    def __add__(self,c):\n",
    "        c1 = Operations()\n",
    "        c1._re= self._re + c._re\n",
    "        c1._im= self._im + c._im\n",
    "        return Operations(c1._re, c1._im)\n",
    "    def __sub__(self,c):\n",
    "        c1 = Complex()\n",
    "        c1._re= self._re - c._re\n",
    "        c1._im= self._im - c._im\n",
    "        return c1\n",
    "    def __mul__(self,c):\n",
    "        c1 = Complex()\n",
    "        c1._re = (self._re*c._re)-(self._im*c._im)\n",
    "        c1._im = (self._re*c._im)+(self._im*c._re)\n",
    "        return c1\n",
    "    def __truediv__(self,c):\n",
    "        c1 = Complex()\n",
    "        c1._re = ((self._re*c._re)+(self._im*c._im))/(c._re**2+c._im**2)\n",
    "        c1._im = ((self._im*c._re)-(self._re*c._im))/(c._re**2+c._im**2)\n",
    "        return c1\n",
    "    def __floordiv__(self,c):\n",
    "        c1 = Complex()\n",
    "        c1._re = ((self._re*c._re)+(self._im*c._im))/(c._re**2+c._im**2)\n",
    "        c1._im = ((self._im*c._re)-(self._re*c._im))/(c._re**2+c._im**2)\n",
    "        return c1"
   ]
  },
  {
   "cell_type": "code",
   "execution_count": 79,
   "id": "a084e67d",
   "metadata": {},
   "outputs": [
    {
     "name": "stdout",
     "output_type": "stream",
     "text": [
      "4+i5\n",
      "2+i3\n",
      "0+i0\n",
      "6+i8\n",
      "0+i0\n",
      "0+i0\n",
      "0+i0\n",
      "0+i0\n"
     ]
    }
   ],
   "source": [
    "c1 = Operations(4,5)\n",
    "c2 = Operations(2,3)\n",
    "c3 = c1+c2\n",
    "c3 = c1-c2\n",
    "c3 = c1*c2\n",
    "c3 = c1/c2\n",
    "c3 = c1//c2"
   ]
  },
  {
   "cell_type": "markdown",
   "id": "3e7eefe3",
   "metadata": {},
   "source": [
    "## Question 4"
   ]
  },
  {
   "cell_type": "code",
   "execution_count": 103,
   "id": "c64a7d15",
   "metadata": {},
   "outputs": [],
   "source": [
    "class Player:\n",
    "    def get_details(self,name,con,age):\n",
    "        self._name = name\n",
    "        self._country = con\n",
    "        self._age = age\n",
    "    def print_player_details(self):\n",
    "        print('Name of the player: ',self._name,'\\n','Country: ',self._country,'\\n','age: ',self._age)\n",
    "class Club(Player):\n",
    "    def get_club_details(self,club,time,name,con,age):\n",
    "        super().get_details(name,con,age)\n",
    "        self._club_name = club\n",
    "        self._contract_time = time\n",
    "    def print_details(self):\n",
    "        super().print_player_details()\n",
    "        print('Club name: ',self._club_name,'\\n','Contract time: ',self._contract_time,'\\n')\n",
    "class Record(Club):\n",
    "    def get_record(self,goal,match):\n",
    "        self._goals = goal\n",
    "        self._matches = match\n",
    "    def goals_per_match(self):\n",
    "        print('Goals per matches:', self._goals//self._matches)"
   ]
  },
  {
   "cell_type": "code",
   "execution_count": 97,
   "id": "c7b9c650",
   "metadata": {
    "scrolled": true
   },
   "outputs": [
    {
     "name": "stdout",
     "output_type": "stream",
     "text": [
      "Name of the player:  axe \n",
      " Country:  spain \n",
      " age:  21\n",
      "Club name:  man united \n",
      " Contract time:  3\n"
     ]
    }
   ],
   "source": [
    "P1 = Club()\n",
    "P1.get_club_details('man united', 3, 'axe','spain',21)\n",
    "P1.print_details()"
   ]
  },
  {
   "cell_type": "code",
   "execution_count": 105,
   "id": "e3790f7f",
   "metadata": {},
   "outputs": [
    {
     "name": "stdout",
     "output_type": "stream",
     "text": [
      "Goals per matches: 5\n"
     ]
    }
   ],
   "source": [
    "P2 = Record()\n",
    "P2.get_record(10,2)\n",
    "P2.goals_per_match()"
   ]
  },
  {
   "cell_type": "markdown",
   "id": "3e9f148a",
   "metadata": {},
   "source": [
    "## Question 5"
   ]
  },
  {
   "cell_type": "code",
   "execution_count": 106,
   "id": "54801bef",
   "metadata": {},
   "outputs": [],
   "source": [
    "class Bill:\n",
    "    def __init__(self, customer_name, table_number, time, order):\n",
    "        self.customer_name = customer_name\n",
    "        self.table_number = table_number\n",
    "        self.time = time\n",
    "        self.order = order\n",
    "    \n",
    "    def extract_order_details(self):\n",
    "        items = self.order.split(',')\n",
    "        order_details = []\n",
    "        for item in items:\n",
    "            name, quantity = item.split('x')\n",
    "            order_details.append([name.strip(), int(quantity)])\n",
    "        return order_details\n",
    "\n",
    "class RestaurantBill(Bill):\n",
    "    def __init__(self, customer_name, table_number, time, order, menu_list):\n",
    "        super().__init__(customer_name, table_number, time, order)\n",
    "        self.menu_list = menu_list\n",
    "    \n",
    "    def calculate_bill_amount(self):\n",
    "        order_details = self.extract_order_details()\n",
    "        menu_items = {}\n",
    "        for item in self.menu_list.split(','):\n",
    "            name, price = item.split('-')\n",
    "            menu_items[name.strip()] = int(price)\n",
    "        total_amount = 0\n",
    "        for item in order_details:\n",
    "            name, quantity = item\n",
    "            total_amount += menu_items[name] * quantity\n",
    "        return total_amount\n",
    "    \n",
    "    def print_bill(self):\n",
    "        order_details = self.extract_order_details()\n",
    "        menu_items = {}\n",
    "        for item in self.menu_list.split(','):\n",
    "            name, price = item.split('-')\n",
    "            menu_items[name.strip()] = int(price)\n",
    "        print(\"=\"*30)\n",
    "        print(f\"{'BILL':^30}\")\n",
    "        print(\"=\"*30)\n",
    "        print(f\"{'Customer Name:':<15}{self.customer_name:>15}\")\n",
    "        print(f\"{'Table Number:':<15}{self.table_number:>15}\")\n",
    "        print(f\"{'Time:':<15}{self.time:>15}\")\n",
    "        print(\"=\"*30)\n",
    "        print(f\"{'Order Details':^30}\")\n",
    "        print(\"=\"*30)\n",
    "        print(f\"{'Item':<20}{'Quantity':<10}{'Amount':<10}\")\n",
    "        print(\"-\"*30)\n",
    "        for item in order_details:\n",
    "            name, quantity = item\n",
    "            amount = menu_items[name] * quantity\n",
    "            print(f\"{name:<20}{quantity:<10}{amount:<10}\")\n",
    "        print(\"-\"*30)\n",
    "        total_amount = self.calculate_bill_amount()\n",
    "        service_charge = total_amount * 0.05\n",
    "        tax = total_amount * 0.1\n",
    "        grand_total = total_amount + service_charge + tax\n",
    "        print(f\"{'Total Amount:':<30}{total_amount:>10}\")\n",
    "        print(f\"{'Service Charge (5%):':<30}{service_charge:>10.2f}\")\n",
    "        print(f\"{'Tax (10%):':<30}{tax:>10.2f}\")\n",
    "        print(\"-\"*30)\n",
    "        print(f\"{'Grand Total:':<30}{grand_total:>10.2f}\")\n",
    "        print(\"=\"*30)\n",
    "\n",
    "class Restaurant:\n",
    "    def __init__(self):\n",
    "        self.bills = []\n",
    "    \n",
    "    def add_bill(self, bill):\n",
    "        self.bills.append(bill)\n",
    "    \n",
    "    def get_earnings(self, date):\n",
    "        total_earnings = 0\n",
    "        for bill in self.bills:\n",
    "            if date in bill.time:\n",
    "                total_earnings += bill.calculate_bill_amount()\n",
    "        return total_earnings\n"
   ]
  },
  {
   "cell_type": "markdown",
   "id": "99e5b59b",
   "metadata": {},
   "source": [
    "## Question 6"
   ]
  },
  {
   "cell_type": "code",
   "execution_count": 107,
   "id": "ffc3edf3",
   "metadata": {},
   "outputs": [],
   "source": [
    "class Vehicle:\n",
    "    def __init__(self):\n",
    "        self.vehicle_type = \"\"\n",
    "        self.vehicle_brand = \"\"\n",
    "        self.vehicle_model = \"\"\n",
    "        self.vehicle_max_fuel = 0.0\n",
    "        self.vehicle_fuel_level = 0.0\n",
    "        \n",
    "    def getVehicleDetails(self):\n",
    "        self.vehicle_type = input(\"Enter the vehicle type: \")\n",
    "        self.vehicle_brand = input(\"Enter the vehicle brand: \")\n",
    "        self.vehicle_model = input(\"Enter the vehicle model: \")\n",
    "        self.vehicle_max_fuel = float(input(\"Enter the maximum fuel capacity (in litres): \"))\n",
    "        self.vehicle_fuel_level = float(input(\"Enter the current fuel level (in litres): \"))\n",
    "        \n",
    "    def checkFuelLevel(self):\n",
    "        if self.vehicle_fuel_level == self.vehicle_max_fuel:\n",
    "            print(\"Full tank\")\n",
    "        elif self.vehicle_fuel_level <= 0:\n",
    "            print(\"Vehicle is out of fuel\")\n",
    "        elif self.vehicle_fuel_level <= 0.1 * self.vehicle_max_fuel:\n",
    "            print(\"Running low on fuel\")\n",
    "        else:\n",
    "            print(\"Current fuel level is:\", self.vehicle_fuel_level, \"litres\")\n"
   ]
  },
  {
   "cell_type": "markdown",
   "id": "6b46a3e4",
   "metadata": {},
   "source": [
    "## Question 7"
   ]
  },
  {
   "cell_type": "code",
   "execution_count": null,
   "id": "5c8d263a",
   "metadata": {},
   "outputs": [],
   "source": [
    "class BankStocks:\n",
    "    def __init__(self):\n",
    "        self.hdfc = [1640.35, 1646.50, 1614.20, 1603.25, 1599.75]\n",
    "        self.icici = [852.10, 854.20, 839.25, 839.75, 840.05]\n",
    "        self.sbi = [525.15, 523.45, 516.35, 521.00, 523.25]\n",
    "        self.date = \"24022023\"\n",
    "\n",
    "class Investor(BankStocks):\n",
    "    def __init__(self):\n",
    "        super().__init__()\n",
    "        self.name = \"\"\n",
    "        self.id = \"\"\n",
    "        self.stocks_owned = []\n",
    "        self.buy_date = \"\"\n",
    "        \n",
    "    def get_input(self):\n",
    "        self.name = input(\"Enter your name: \")\n",
    "        self.id = input(\"Enter your ID: \")\n",
    "        self.stocks_owned = list(map(int, input(\"Enter the number of stocks you own in each bank separated by spaces: \").split()))\n",
    "        self.buy_date = input(\"Enter the buy date in the format DDMMYYYY: \")\n",
    "        \n",
    "    def calculate_profit_today(self):\n",
    "        current_prices = [self.hdfc[-1], self.icici[-1], self.sbi[-1]]\n",
    "        total_cost = 0\n",
    "        for i in range(len(self.stocks_owned)):\n",
    "            total_cost += self.stocks_owned[i] * eval(f'self.{[\"hdfc\", \"icici\", \"sbi\"][i]}[{self.buy_date[-1]}]')\n",
    "        current_value = sum([self.stocks_owned[i] * current_prices[i] for i in range(len(self.stocks_owned))])\n",
    "        overall_profit = ((current_value - total_cost) / total_cost) * 100\n",
    "        print(f\"Total cost = {total_cost:.2f} INR\")\n",
    "        print(f\"Current price = {current_value:.2f} INR\")\n",
    "        print(\"The profits are:\")\n",
    "        for i in range(len(self.stocks_owned)):\n",
    "            profit = ((current_prices[i] - eval(f'self.{[\"hdfc\", \"icici\", \"sbi\"][i]}[{self.buy_date[-1]}]')) / eval(f'self.{[\"hdfc\", \"icici\", \"sbi\"][i]}[{self.buy_date[-1]}]')) * 100\n",
    "            print(f'{[\"hdfc\", \"icici\", \"sbi\"][i]:10} {profit:>8.2f}%  {int((current_prices[i] - eval(f\"self.{['hdfc', 'icici', 'sbi'][i]}[{self.buy_date[-1]}]\")) * self.stocks_owned[i]):>7} INR')\n",
    "        print(f'total     {overall_profit:>8.2f}%  {int(current_value - total_cost):>7} INR')\n"
   ]
  }
 ],
 "metadata": {
  "kernelspec": {
   "display_name": "Python 3 (ipykernel)",
   "language": "python",
   "name": "python3"
  },
  "language_info": {
   "codemirror_mode": {
    "name": "ipython",
    "version": 3
   },
   "file_extension": ".py",
   "mimetype": "text/x-python",
   "name": "python",
   "nbconvert_exporter": "python",
   "pygments_lexer": "ipython3",
   "version": "3.9.13"
  }
 },
 "nbformat": 4,
 "nbformat_minor": 5
}
