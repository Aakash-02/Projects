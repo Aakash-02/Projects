{
 "cells": [
  {
   "cell_type": "markdown",
   "id": "8aacb7da",
   "metadata": {},
   "source": [
    "## Question 1"
   ]
  },
  {
   "cell_type": "code",
   "execution_count": 1,
   "id": "73d969e2",
   "metadata": {},
   "outputs": [
    {
     "name": "stdout",
     "output_type": "stream",
     "text": [
      "The main difference between tuples and lists are tuples are immutable while lists are mutable\n",
      "Ex:\n",
      " tuple =  (1, 2, 34, 5, 532, 4) \n",
      " list =  [0, 1, 2, 3, 4]\n",
      " changed list =  [0, 1, 2, 256, 4]\n",
      " appended list =  [0, 1, 2, 256, 4, 45]\n",
      " deleted list =  [0, 1, 2, 256, 45]\n"
     ]
    }
   ],
   "source": [
    "print('The main difference between tuples and lists are tuples are immutable while lists are mutable')\n",
    "tup=(1,2,34,5,532,4)\n",
    "lst=[num for num in range(5)]\n",
    "print('Ex:\\n tuple = ',tup,'\\n list = ',lst)\n",
    "\n",
    "#changing the 4th element in list (cant be done in tuple)\n",
    "lst[3]=256\n",
    "print(' changed list = ',lst)\n",
    "#tup[5]=56\n",
    "\n",
    "#lists can be appended, tuples are fixed - no new element can be added\n",
    "lst.append(45)\n",
    "print(' appended list = ',lst)\n",
    "\n",
    "#elements in lists can be deleted, not possible in tuples\n",
    "lst.pop(4)\n",
    "print(' deleted list = ',lst)"
   ]
  },
  {
   "cell_type": "markdown",
   "id": "9737b06c",
   "metadata": {},
   "source": [
    "## Question 2"
   ]
  },
  {
   "cell_type": "code",
   "execution_count": 2,
   "id": "555f94b8",
   "metadata": {},
   "outputs": [
    {
     "name": "stdout",
     "output_type": "stream",
     "text": [
      "Enter the string : Hello\n",
      "(('H', 72), ('e', 101), ('l', 108), ('l', 108), ('o', 111))\n"
     ]
    }
   ],
   "source": [
    "inp = input('Enter the string : ')\n",
    "out = tuple((i,ord(i))for i in inp)\n",
    "print(out)"
   ]
  },
  {
   "cell_type": "markdown",
   "id": "da454c3e",
   "metadata": {},
   "source": [
    "## Question 3"
   ]
  },
  {
   "cell_type": "code",
   "execution_count": 3,
   "id": "1401174b",
   "metadata": {},
   "outputs": [
    {
     "name": "stdout",
     "output_type": "stream",
     "text": [
      "Enter the number of student details to be added :3\n",
      "nameAxe\n",
      "roll.no3\n",
      "nameIan\n",
      "roll.no2\n",
      "nameben\n",
      "roll.no5\n",
      "[('Axe', 3), ('Ian', 2)]\n"
     ]
    }
   ],
   "source": [
    "n = int(input('Enter the number of student details to be added :'))\n",
    "list_vow = ['a','e','i','o','u']\n",
    "inp_lot = [(input('name'), int(input('roll.no')))for i in range(n)]\n",
    "out_lot = [a for a in inp_lot if a[0][0].lower() in list_vow]\n",
    "print(out_lot)"
   ]
  },
  {
   "cell_type": "markdown",
   "id": "66fe7f28",
   "metadata": {},
   "source": [
    "## Question 4"
   ]
  },
  {
   "cell_type": "code",
   "execution_count": 4,
   "id": "ea87537f",
   "metadata": {},
   "outputs": [],
   "source": [
    "def matrix_addition(m1,m2):\n",
    "    m_add = [[m1[i][j]+m2[i][j] for j in range(len(m1[0]))] for i in range(len(m1))]\n",
    "    return m_add\n",
    "def matrix_subraction(m1,m2):\n",
    "    m_sub = [[m1[i][j]-m2[i][j] for j in range(len(m1[0]))] for i in range(len(m1))]\n",
    "    return m_sub\n",
    "def trace(m):\n",
    "    m_trace = sum([m[i][j] for j in range(len(m[0])) for i in range(len(m)) if i==j])\n",
    "    return m_trace\n",
    "def matrix_transpose(m):\n",
    "    m_transpose = [[m[j][i]for j in range(len(m))] for i in range(len(m[0]))]\n",
    "    return m_transpose\n",
    "def scalar_multiplication(m,k):\n",
    "    m_scalarmulti = [[k*m[i][j] for j in range(len(m[0]))] for i in range(len(m))]\n",
    "    return m_scalarmulti\n",
    "def rowwise_addition(m):\n",
    "    m_add = [[sum([m[i][j] for j in range(len(m[0]))])] for i in range(len(m))]\n",
    "    return m_add\n",
    "def columnwise_addition(m):\n",
    "    m_add = [[sum([m[j][i] for j in range(len(m))])] for i in range(len(m[0]))]\n",
    "    return m_add\n"
   ]
  },
  {
   "cell_type": "code",
   "execution_count": 5,
   "id": "5a136498",
   "metadata": {},
   "outputs": [
    {
     "name": "stdout",
     "output_type": "stream",
     "text": [
      "Matrix addition:  [[6, 8, 10, 12], [18, 20, 22, 24], [18, 20, 22, 24], [14, 16, 18, 20]]\n",
      "Matrix subraction:  [[-4, -4, -4, -4], [-8, -8, -8, -8], [0, 0, 0, 0], [12, 12, 12, 12]]\n",
      "trace of the matrix:  34\n",
      "Matrix transpose:  [[1, 5, 9, 13], [2, 6, 10, 14], [3, 7, 11, 15], [4, 8, 12, 16]]\n",
      "Value for scalar: 3\n",
      "scalar multiplication:  [[3, 6, 9, 12], [15, 18, 21, 24], [27, 30, 33, 36], [39, 42, 45, 48]]\n",
      "Row wise addition:  [[10], [26], [42], [58]]\n",
      "column wise additon:  [[28], [32], [36], [40]]\n"
     ]
    }
   ],
   "source": [
    "mat_1 = [[1,2,3,4],[5,6,7,8],[9,10,11,12],[13,14,15,16]]\n",
    "mat_2 = [[5,6,7,8],[13,14,15,16],[9,10,11,12],[1,2,3,4]]\n",
    "print('Matrix addition: ',matrix_addition(mat_1,mat_2))\n",
    "print('Matrix subraction: ',matrix_subraction(mat_1,mat_2))\n",
    "print('trace of the matrix: ',trace(mat_1))\n",
    "print('Matrix transpose: ',matrix_transpose(mat_1))\n",
    "print('scalar multiplication: ',scalar_multiplication(mat_1,int(input('Value for scalar: '))))\n",
    "print('Row wise addition: ',rowwise_addition(mat_1))\n",
    "print('column wise additon: ',columnwise_addition(mat_1))"
   ]
  },
  {
   "cell_type": "code",
   "execution_count": 6,
   "id": "3e0b9c66",
   "metadata": {},
   "outputs": [],
   "source": [
    "def mat_add(m1,m2):\n",
    "    m_add = [[sum(ite)for ite in zip(*it)] for it in zip(m1,m2)]\n",
    "    return m_add\n",
    "def mat_sub(m1,m2):\n",
    "    m_sub = [[ite[0]-ite[1] for ite in zip(*it)] for it in zip(m1,m2)]\n",
    "    return m_sub\n",
    "def mat_transpose(m):\n",
    "    m_transpose = list(zip(*m))\n",
    "    return [*m_transpose]\n",
    "def scalar_mult(m,k):\n",
    "    m_scalar = [[k*ite for ite in it] for it in zip(*m)]\n",
    "    m_scalar = mat_transpose(m_scalar)\n",
    "    return m_scalar"
   ]
  },
  {
   "cell_type": "code",
   "execution_count": 7,
   "id": "322d5a24",
   "metadata": {},
   "outputs": [
    {
     "name": "stdout",
     "output_type": "stream",
     "text": [
      "Matrix addition:  [[6, 8, 10, 12], [18, 20, 22, 24], [18, 20, 22, 24], [14, 16, 18, 20]]\n",
      "Matrix subraction:  [[-4, -4, -4, -4], [-8, -8, -8, -8], [0, 0, 0, 0], [12, 12, 12, 12]]\n",
      "Matrix transpose:  [(1, 5, 9, 13), (2, 6, 10, 14), (3, 7, 11, 15), (4, 8, 12, 16)]\n",
      "Value for scalar: 4\n",
      "scalar multiplication:  [(4, 8, 12, 16), (20, 24, 28, 32), (36, 40, 44, 48), (52, 56, 60, 64)]\n"
     ]
    }
   ],
   "source": [
    "print('Matrix addition: ',mat_add(mat_1,mat_2))\n",
    "print('Matrix subraction: ',mat_sub(mat_1,mat_2))\n",
    "#print('trace of the matrix: ',trace(mat_1))\n",
    "print('Matrix transpose: ',mat_transpose(mat_1))\n",
    "print('scalar multiplication: ',scalar_mult(mat_1,int(input('Value for scalar: '))))"
   ]
  },
  {
   "cell_type": "markdown",
   "id": "50405e0a",
   "metadata": {},
   "source": [
    "## Question 5"
   ]
  },
  {
   "cell_type": "code",
   "execution_count": 8,
   "id": "c5db4743",
   "metadata": {
    "scrolled": true
   },
   "outputs": [
    {
     "name": "stdout",
     "output_type": "stream",
     "text": [
      "234\n",
      "5454\n",
      "23\n",
      "77\n",
      "Enter the number to be added: 444\n",
      "Set after adding an element: {234, 77, 5454, 23, 444}\n",
      "Enter the number to be removed: 77\n",
      "set after removing an element: {234, 5454, 23, 444}\n",
      "Entert the number to be discarded: 23\n",
      "set after discarding an element: {234, 5454, 444}\n",
      "set after clearing: set()\n"
     ]
    }
   ],
   "source": [
    "lst = [int(input('')) for i in range(4)]\n",
    "set_a = set(lst)\n",
    "set_a.add(int(input('Enter the number to be added: ')))\n",
    "print('Set after adding an element:',set_a)\n",
    "set_a.remove(int(input('Enter the number to be removed: ')))\n",
    "print('set after removing an element:',set_a)\n",
    "set_a.discard(int(input('Entert the number to be discarded: ')))\n",
    "print('set after discarding an element:',set_a)\n",
    "set_a.clear()\n",
    "print('set after clearing:',set_a)"
   ]
  },
  {
   "cell_type": "markdown",
   "id": "253520ed",
   "metadata": {},
   "source": [
    "## Question 6\n",
    "\n",
    "### Python frozenset() Method creates an immutable Set object from an iterable."
   ]
  },
  {
   "cell_type": "code",
   "execution_count": 25,
   "id": "39e2aab0",
   "metadata": {},
   "outputs": [
    {
     "data": {
      "text/plain": [
       "frozenset({1, 2, 4, 'a', 'g', 'v'})"
      ]
     },
     "execution_count": 25,
     "metadata": {},
     "output_type": "execute_result"
    }
   ],
   "source": [
    "#example 1\n",
    "lst1 = ['a',1,2,'v',4,'g','a']\n",
    "f_set1 = frozenset(lst1)\n",
    "f_set1\n",
    "#it eliminates duplicate as it is a type of set\n"
   ]
  },
  {
   "cell_type": "code",
   "execution_count": 26,
   "id": "7f279328",
   "metadata": {},
   "outputs": [
    {
     "ename": "AttributeError",
     "evalue": "'frozenset' object has no attribute 'add'",
     "output_type": "error",
     "traceback": [
      "\u001b[1;31m---------------------------------------------------------------------------\u001b[0m",
      "\u001b[1;31mAttributeError\u001b[0m                            Traceback (most recent call last)",
      "\u001b[1;32m<ipython-input-26-92e39a1102b8>\u001b[0m in \u001b[0;36m<module>\u001b[1;34m\u001b[0m\n\u001b[1;32m----> 1\u001b[1;33m \u001b[0mf_set1\u001b[0m\u001b[1;33m.\u001b[0m\u001b[0madd\u001b[0m\u001b[1;33m(\u001b[0m\u001b[1;36m2\u001b[0m\u001b[1;33m)\u001b[0m \u001b[1;31m#this line will give error because you can't add any elements to a frozen set\u001b[0m\u001b[1;33m\u001b[0m\u001b[1;33m\u001b[0m\u001b[0m\n\u001b[0m",
      "\u001b[1;31mAttributeError\u001b[0m: 'frozenset' object has no attribute 'add'"
     ]
    }
   ],
   "source": [
    "f_set1.add(2) #this line will give error because you can't add any elements to a frozen set"
   ]
  },
  {
   "cell_type": "markdown",
   "id": "bd820e85",
   "metadata": {},
   "source": [
    "## Question 7"
   ]
  },
  {
   "cell_type": "code",
   "execution_count": 100,
   "id": "8f9bff58",
   "metadata": {},
   "outputs": [
    {
     "data": {
      "text/plain": [
       "[2, 4, 6, 8]"
      ]
     },
     "execution_count": 100,
     "metadata": {},
     "output_type": "execute_result"
    }
   ],
   "source": [
    "lst_even = [i for i in range(1,10) if i%2==0]\n",
    "lst_even"
   ]
  }
 ],
 "metadata": {
  "kernelspec": {
   "display_name": "Python 3 (ipykernel)",
   "language": "python",
   "name": "python3"
  },
  "language_info": {
   "codemirror_mode": {
    "name": "ipython",
    "version": 3
   },
   "file_extension": ".py",
   "mimetype": "text/x-python",
   "name": "python",
   "nbconvert_exporter": "python",
   "pygments_lexer": "ipython3",
   "version": "3.9.13"
  }
 },
 "nbformat": 4,
 "nbformat_minor": 5
}
