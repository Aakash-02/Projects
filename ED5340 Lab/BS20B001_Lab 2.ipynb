{
 "cells": [
  {
   "cell_type": "markdown",
   "id": "e6fb209e",
   "metadata": {},
   "source": [
    "## question 1"
   ]
  },
  {
   "cell_type": "code",
   "execution_count": 105,
   "id": "3a35d2d3",
   "metadata": {},
   "outputs": [
    {
     "name": "stdout",
     "output_type": "stream",
     "text": [
      "42\n",
      "84\n",
      "126\n",
      "168\n",
      "210\n",
      "252\n",
      "294\n",
      "336\n",
      "378\n",
      "420\n",
      "462\n"
     ]
    }
   ],
   "source": [
    "for i in range(1,500):\n",
    "    if (i%6 != 0) or (i%7 != 0):\n",
    "        continue\n",
    "    print(i)"
   ]
  },
  {
   "cell_type": "code",
   "execution_count": 3,
   "id": "10b3671c",
   "metadata": {},
   "outputs": [
    {
     "name": "stdout",
     "output_type": "stream",
     "text": [
      "42\n",
      "84\n",
      "126\n",
      "168\n",
      "210\n",
      "252\n",
      "294\n",
      "336\n",
      "378\n",
      "420\n",
      "462\n"
     ]
    }
   ],
   "source": [
    "for i in range(1,500):\n",
    "    if (i%6 != 0) or (i%7 != 0):\n",
    "        pass\n",
    "    else:\n",
    "        print(i)"
   ]
  },
  {
   "cell_type": "markdown",
   "id": "b028b1b9",
   "metadata": {},
   "source": [
    "## question 2"
   ]
  },
  {
   "cell_type": "code",
   "execution_count": 18,
   "id": "4ec9ee3b",
   "metadata": {},
   "outputs": [
    {
     "name": "stdout",
     "output_type": "stream",
     "text": [
      "Please enter the number: 156893\n",
      "Sum_even =  14 \n",
      " Sum_odd =  18\n"
     ]
    }
   ],
   "source": [
    "inp = input('Please enter the number: ')\n",
    "sum_even = 0\n",
    "sum_odd = 0\n",
    "for i in inp:\n",
    "    if(int(i)%2 == 0):\n",
    "        sum_even+=int(i)\n",
    "    else:\n",
    "        sum_odd+=int(i)\n",
    "print('Sum_even = ', sum_even,'\\n','Sum_odd = ', sum_odd)"
   ]
  },
  {
   "cell_type": "markdown",
   "id": "7d818eae",
   "metadata": {},
   "source": [
    "## question 3"
   ]
  },
  {
   "cell_type": "markdown",
   "id": "9e22ba2c",
   "metadata": {},
   "source": [
    "## Conditional statements are statements who's  output depends on a given expression"
   ]
  },
  {
   "cell_type": "code",
   "execution_count": 21,
   "id": "5d75c0ae",
   "metadata": {},
   "outputs": [
    {
     "name": "stdout",
     "output_type": "stream",
     "text": [
      "(8, 1)\n",
      "8 1\n"
     ]
    }
   ],
   "source": [
    "def max_and_min(lst):\n",
    "    max_num = 0\n",
    "    min_num = 0\n",
    "    for i in range(len(lst)-1):\n",
    "        if(lst[i]>lst[i+1]):\n",
    "            max_num = lst[i]\n",
    "        else:\n",
    "            min_num = lst[i]\n",
    "    return max_num, min_num\n",
    "\n",
    "test_lst = [2,6,7,8,1,4]\n",
    "print(max_and_min(test_lst))\n",
    "print(max(test_lst), min(test_lst))"
   ]
  },
  {
   "cell_type": "markdown",
   "id": "ddf8b080",
   "metadata": {},
   "source": [
    "## Question 4"
   ]
  },
  {
   "cell_type": "code",
   "execution_count": 38,
   "id": "9aced961",
   "metadata": {},
   "outputs": [
    {
     "name": "stdout",
     "output_type": "stream",
     "text": [
      "Please enter the number: 4\n",
      "\n",
      "\n",
      "1\n",
      "\n",
      "22\n",
      "\n",
      "333\n",
      "\n",
      "4444\n",
      "\n"
     ]
    }
   ],
   "source": [
    "num = int(input('Please enter the number: '))\n",
    "for i in range(num+1):\n",
    "    for j in range(i):\n",
    "        print(i,end='')\n",
    "    print('\\n')\n"
   ]
  },
  {
   "cell_type": "markdown",
   "id": "15716d0b",
   "metadata": {},
   "source": [
    "## Question 5"
   ]
  },
  {
   "cell_type": "code",
   "execution_count": 44,
   "id": "23788a03",
   "metadata": {},
   "outputs": [
    {
     "name": "stdout",
     "output_type": "stream",
     "text": [
      "Please enter the string: A man, a plan, a canal, Panama\n",
      "The given string is a palindrome\n"
     ]
    }
   ],
   "source": [
    "inp = input('Please enter the string: ')\n",
    "inp = inp.lower()\n",
    "inp = inp.replace(',','')\n",
    "inp = inp.replace(' ','')\n",
    "rev_inp = inp[::-1]\n",
    "if(inp == rev_inp):\n",
    "    print('The given string is a palindrome')\n",
    "else:\n",
    "    print('The given string is not a palindrome')"
   ]
  },
  {
   "cell_type": "markdown",
   "id": "51f3d7c0",
   "metadata": {},
   "source": [
    "## Question 6"
   ]
  },
  {
   "cell_type": "markdown",
   "id": "9fe6d677",
   "metadata": {},
   "source": [
    "## chr() function returns the specified unicode for the given character.\n",
    "## ord() function returns the number representing the unicode for the given character"
   ]
  },
  {
   "cell_type": "code",
   "execution_count": 55,
   "id": "193e1d92",
   "metadata": {},
   "outputs": [
    {
     "name": "stdout",
     "output_type": "stream",
     "text": [
      "65 66 67 68 90\n",
      "Please enter the numnber: 4\n",
      "A\n",
      "\n",
      "BB\n",
      "\n",
      "CCC\n",
      "\n",
      "DDDD\n",
      "\n"
     ]
    }
   ],
   "source": [
    "print(ord('A'),\n",
    "ord('B'),\n",
    "ord('C'),\n",
    "ord('D'),\n",
    "ord('Z'))\n",
    "#As we can see the unicode starts from 65 and increases by one for every next alphabet\n",
    "n = int(input('Please enter the numnber: '))\n",
    "for i in range(65, 65+n):\n",
    "    for j in range(i-64):\n",
    "        print(chr(i),end='')\n",
    "    print('\\n')"
   ]
  },
  {
   "cell_type": "markdown",
   "id": "784d34a0",
   "metadata": {},
   "source": [
    "## Question 7"
   ]
  },
  {
   "cell_type": "code",
   "execution_count": 21,
   "id": "b417f532",
   "metadata": {},
   "outputs": [],
   "source": [
    "def ticket_append(lst):\n",
    "    lst1=[]\n",
    "    lst1.append(input('Name:'))\n",
    "    lst1.append(int(input('tkt number:')))\n",
    "    lst1.append((input('Departure date:')))\n",
    "    lst1.append(int(input('Distance:')))\n",
    "    lst.append(lst1)\n",
    "    return(lst)\n",
    "\n",
    "def ini_append(lst):\n",
    "    lst1=[]\n",
    "    lst1.append(input('Name:'))\n",
    "    lst1.append(int(input('tkt number:')))\n",
    "    lst1.append((input('Departure date:')))\n",
    "    lst1.append(int(input('Distance:')))\n",
    "    lst.insert(0,lst1)\n",
    "    return(lst)\n",
    "\n",
    "\n",
    "def remover(lst,name):\n",
    "    for i in lst:\n",
    "        if i[0] == name:\n",
    "            lst.remove(i)\n",
    "    return lst\n",
    "\n",
    "def dupli_checker(lst):\n",
    "    for i in range(len(lst)-1):\n",
    "        for j in range(i+1,len(lst)):\n",
    "            if(lst[i][0] == lst[j][0]):\n",
    "                lst.pop(i)\n",
    "    return lst"
   ]
  },
  {
   "cell_type": "code",
   "execution_count": 26,
   "id": "f811111c",
   "metadata": {
    "scrolled": true
   },
   "outputs": [],
   "source": [
    "airline_lst=[['axe', 1111, '01/02/2023', 4263], ['ben', 4324, '23/03/2022', 3543], ['max', 3453, '03/04/2024', 3534]]\n",
    "#for i in range(3):\n",
    "    #ticket_append(airline_lst)"
   ]
  },
  {
   "cell_type": "code",
   "execution_count": 27,
   "id": "d5822b04",
   "metadata": {},
   "outputs": [
    {
     "name": "stdout",
     "output_type": "stream",
     "text": [
      "[['axe', 1111, '01/02/2023', 4263], ['ben', 4324, '23/03/2022', 3543], ['max', 3453, '03/04/2024', 3534]]\n"
     ]
    }
   ],
   "source": [
    "print(airline_lst)"
   ]
  },
  {
   "cell_type": "code",
   "execution_count": 28,
   "id": "1c641c1f",
   "metadata": {},
   "outputs": [
    {
     "name": "stdout",
     "output_type": "stream",
     "text": [
      "Name:calux\n",
      "tkt number:1242\n",
      "Departure date:03/03/239\n",
      "Distance:23423\n",
      "[['axe', 1111, '01/02/2023', 4263], ['ben', 4324, '23/03/2022', 3543], ['calux', 1242, '03/03/239', 23423], ['max', 3453, '03/04/2024', 3534]]\n"
     ]
    }
   ],
   "source": [
    "ticket_append(airline_lst)\n",
    "airline_lst.sort()\n",
    "print(airline_lst)"
   ]
  },
  {
   "cell_type": "code",
   "execution_count": 29,
   "id": "18cfacc5",
   "metadata": {},
   "outputs": [
    {
     "name": "stdout",
     "output_type": "stream",
     "text": [
      "[['axe', 1111, '01/02/2023', 4263], ['ben', 4324, '23/03/2022', 3543], ['max', 3453, '03/04/2024', 3534]]\n"
     ]
    }
   ],
   "source": [
    "remover(airline_lst, 'calux')\n",
    "print(airline_lst)"
   ]
  },
  {
   "cell_type": "code",
   "execution_count": 30,
   "id": "0606a1fc",
   "metadata": {
    "scrolled": true
   },
   "outputs": [
    {
     "name": "stdout",
     "output_type": "stream",
     "text": [
      "Name:max\n",
      "tkt number:23423\n",
      "Departure date:03/04/2334\n",
      "Distance:2423\n",
      "[['max', 23423, '03/04/2334', 2423], ['axe', 1111, '01/02/2023', 4263], ['ben', 4324, '23/03/2022', 3543], ['max', 3453, '03/04/2024', 3534]]\n"
     ]
    }
   ],
   "source": [
    "ini_append(airline_lst)\n",
    "print(airline_lst)"
   ]
  },
  {
   "cell_type": "code",
   "execution_count": 31,
   "id": "adcddaf1",
   "metadata": {},
   "outputs": [
    {
     "name": "stdout",
     "output_type": "stream",
     "text": [
      "[['axe', 1111, '01/02/2023', 4263], ['ben', 4324, '23/03/2022', 3543], ['max', 3453, '03/04/2024', 3534]]\n"
     ]
    }
   ],
   "source": [
    "dupli_checker(airline_lst)\n",
    "print(airline_lst)"
   ]
  },
  {
   "cell_type": "code",
   "execution_count": 9,
   "id": "41debf8d",
   "metadata": {},
   "outputs": [
    {
     "name": "stdout",
     "output_type": "stream",
     "text": [
      "[['axe', 1111, '01/02/2023', 4263], ['ben', 4324, '23/03/2022', 3543], ['max', 3453, '03/04/2024', 3534]]\n"
     ]
    }
   ],
   "source": [
    "airline_lst.sort()\n",
    "print(airline_lst)"
   ]
  },
  {
   "cell_type": "markdown",
   "id": "e997acc5",
   "metadata": {},
   "source": [
    "## Question 8"
   ]
  },
  {
   "cell_type": "code",
   "execution_count": 72,
   "id": "5846b12e",
   "metadata": {},
   "outputs": [],
   "source": [
    "def add_two_list(lst1,lst2):\n",
    "    lst = [lst1[i]+lst2[i] for i in range(len(lst1))]\n",
    "    return lst"
   ]
  },
  {
   "cell_type": "code",
   "execution_count": 73,
   "id": "37ad0ded",
   "metadata": {},
   "outputs": [
    {
     "name": "stdout",
     "output_type": "stream",
     "text": [
      "[6, 8, 10, 12]\n"
     ]
    }
   ],
   "source": [
    "l1 = [1,2,3,4]\n",
    "l2 = [5,6,7,8]\n",
    "l3 = add_two_list(l1,l2)\n",
    "print(l3)"
   ]
  },
  {
   "cell_type": "code",
   "execution_count": 74,
   "id": "7d4a6894",
   "metadata": {},
   "outputs": [],
   "source": [
    "def multiply_two_list(lst1, lst2):\n",
    "    lst = [lst1[i]*lst2[i] for i in range(len(lst1))]\n",
    "    return lst"
   ]
  },
  {
   "cell_type": "code",
   "execution_count": 75,
   "id": "c46102e5",
   "metadata": {},
   "outputs": [
    {
     "name": "stdout",
     "output_type": "stream",
     "text": [
      "[5, 12, 21, 32]\n"
     ]
    }
   ],
   "source": [
    "l4 = multiply_two_list(l1,l2)\n",
    "print(l4)"
   ]
  },
  {
   "cell_type": "code",
   "execution_count": 112,
   "id": "fe9e9327",
   "metadata": {},
   "outputs": [
    {
     "name": "stdout",
     "output_type": "stream",
     "text": [
      "Please enter the string: even\n",
      "['v', 'e', 'n']\n"
     ]
    }
   ],
   "source": [
    "string = set(input(\"Please enter the string: \"))\n",
    "unique_char = [char for char in string]\n",
    "print(unique_char)"
   ]
  },
  {
   "cell_type": "markdown",
   "id": "38ab31bb",
   "metadata": {},
   "source": [
    "## Question 9"
   ]
  },
  {
   "cell_type": "code",
   "execution_count": 81,
   "id": "bece415f",
   "metadata": {},
   "outputs": [
    {
     "name": "stdout",
     "output_type": "stream",
     "text": [
      "[[7, 9, 11], [12, 14, 16]] [[6, 14, 24], [27, 40, 55]]\n"
     ]
    }
   ],
   "source": [
    "mat1 = [[1,2,3],[3,4,5]]\n",
    "mat2 = [[6,7,8],[9,10,11]]\n",
    "mat_add,mat_mult = [[0,0,0],[0,0,0,]] , [[0,0,0],[0,0,0,]]\n",
    "for i in range(len(mat1)):\n",
    "    for j in range(len(mat1[0])):\n",
    "        mat_add[i][j] = mat1[i][j] + mat2[i][j]\n",
    "        mat_mult[i][j] = mat1[i][j] * mat2[i][j]\n",
    "print(mat_add,mat_mult)\n"
   ]
  },
  {
   "cell_type": "markdown",
   "id": "4d35231c",
   "metadata": {},
   "source": [
    "## Question 10"
   ]
  },
  {
   "cell_type": "code",
   "execution_count": 82,
   "id": "e132c98a",
   "metadata": {},
   "outputs": [
    {
     "name": "stdout",
     "output_type": "stream",
     "text": [
      "I solved that problem in 1 try\n"
     ]
    }
   ],
   "source": [
    "a = 1\n",
    "print('I solved that problem in {} try'.format(a))"
   ]
  },
  {
   "cell_type": "code",
   "execution_count": 83,
   "id": "4dc9cf07",
   "metadata": {},
   "outputs": [
    {
     "name": "stdout",
     "output_type": "stream",
     "text": [
      "I solved that problem in 1.00 try\n"
     ]
    }
   ],
   "source": [
    "print('I solved that problem in {:.2f} try'.format(a))"
   ]
  },
  {
   "cell_type": "code",
   "execution_count": 86,
   "id": "b3b1c806",
   "metadata": {},
   "outputs": [
    {
     "name": "stdout",
     "output_type": "stream",
     "text": [
      "I solved that 2nd question for the 3rd time in 1 try\n"
     ]
    }
   ],
   "source": [
    "b=2\n",
    "c=3\n",
    "print('I solved that {}nd question for the {}rd time in {} try'.format(b,c,a))"
   ]
  },
  {
   "cell_type": "markdown",
   "id": "2ffc44db",
   "metadata": {},
   "source": [
    "## Question 11"
   ]
  },
  {
   "cell_type": "code",
   "execution_count": 93,
   "id": "a45e6ac6",
   "metadata": {},
   "outputs": [
    {
     "name": "stdout",
     "output_type": "stream",
     "text": [
      "10\n",
      "56\n",
      "44\n",
      "The maximum of the three numbers is: 56\n"
     ]
    }
   ],
   "source": [
    "n1 = int(input(''))\n",
    "n2 = int(input(''))\n",
    "n3 = int(input(''))\n",
    "if n1>n2 and n1>n3:\n",
    "    maxi = n1\n",
    "elif n2>n3 and n2>n1:\n",
    "    maxi = n2\n",
    "elif n3>n1 and n3>n2:\n",
    "    maxi = n3\n",
    "print('The maximum of the three numbers is:',maxi)"
   ]
  }
 ],
 "metadata": {
  "kernelspec": {
   "display_name": "Python 3 (ipykernel)",
   "language": "python",
   "name": "python3"
  },
  "language_info": {
   "codemirror_mode": {
    "name": "ipython",
    "version": 3
   },
   "file_extension": ".py",
   "mimetype": "text/x-python",
   "name": "python",
   "nbconvert_exporter": "python",
   "pygments_lexer": "ipython3",
   "version": "3.8.10"
  }
 },
 "nbformat": 4,
 "nbformat_minor": 5
}
