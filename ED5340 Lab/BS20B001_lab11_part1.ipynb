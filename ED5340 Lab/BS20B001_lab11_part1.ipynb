{
 "cells": [
  {
   "cell_type": "markdown",
   "id": "c696ec05-9a60-44e7-aab1-fc52e3b3c3d9",
   "metadata": {
    "tags": []
   },
   "source": [
    "# Question 1"
   ]
  },
  {
   "cell_type": "code",
   "execution_count": 162,
   "id": "3f406703-f7dd-42bf-8884-027cd3df64d2",
   "metadata": {},
   "outputs": [],
   "source": [
    "import numpy as np\n",
    "import pandas as pd\n",
    "import matplotlib.pyplot as plt\n",
    "from sklearn.pipeline import make_pipeline\n",
    "from sklearn.preprocessing import StandardScaler\n",
    "from sklearn.svm import SVC\n",
    "from sklearn.model_selection import train_test_split\n",
    "from sklearn import datasets"
   ]
  },
  {
   "cell_type": "markdown",
   "id": "cd490396-4f53-4f3c-bc83-dbb56d2173e5",
   "metadata": {},
   "source": [
    "### Loading the data"
   ]
  },
  {
   "cell_type": "code",
   "execution_count": 163,
   "id": "2e5b89c3-35d8-44d9-b415-f136aefc5bed",
   "metadata": {
    "tags": []
   },
   "outputs": [],
   "source": [
    "iris = datasets.load_iris()\n",
    "X = iris.data[:,:2] #Taking only sepal length and width as x\n",
    "Y = iris.target"
   ]
  },
  {
   "cell_type": "markdown",
   "id": "1ec2978b-5ce1-4bfd-ab4d-f217128b062f",
   "metadata": {},
   "source": [
    "### Visuvalising the data"
   ]
  },
  {
   "cell_type": "code",
   "execution_count": 164,
   "id": "e9fad91e-b491-4141-b589-c361c456e12d",
   "metadata": {
    "tags": []
   },
   "outputs": [
    {
     "data": {
      "image/png": "[encoded data removed]",
      "text/plain": [
       "<Figure size 640x480 with 1 Axes>"
      ]
     },
     "metadata": {},
     "output_type": "display_data"
    }
   ],
   "source": [
    "fig,ax = plt.subplots()\n",
    "for i in range(len(Y)):\n",
    "    if Y[i] == 0:\n",
    "        colour = 'red'\n",
    "    elif Y[i] == 1:\n",
    "        colour = 'Green'\n",
    "    else:\n",
    "        colour = 'blue'\n",
    "    ax.scatter(X[i,0],X[i,1], color = colour, label = label1)\n",
    "plt.xlabel('Sepal length')\n",
    "plt.ylabel('sepal width')\n",
    "# plt.legend(loc = 'upper left')\n",
    "plt.show()"
   ]
  },
  {
   "cell_type": "markdown",
   "id": "418d99fd-cd9d-4e79-a44f-68586fdd4787",
   "metadata": {},
   "source": [
    "### Spllitng the data into test and train"
   ]
  },
  {
   "cell_type": "code",
   "execution_count": 165,
   "id": "5cba09b0-50d1-4520-8895-d00f85c44345",
   "metadata": {
    "tags": []
   },
   "outputs": [],
   "source": [
    "X_train,X_test,Y_train,Y_test = train_test_split(X, Y, test_size = 0.3, random_state = 42)"
   ]
  },
  {
   "cell_type": "markdown",
   "id": "32e7473b-9e92-46be-9209-4894cbc49295",
   "metadata": {},
   "source": [
    "### Creating the model"
   ]
  },
  {
   "cell_type": "code",
   "execution_count": 166,
   "id": "851bb52b-a3db-4850-b440-cbdacf09eb4d",
   "metadata": {
    "tags": []
   },
   "outputs": [
    {
     "data": {
      "text/html": [
       "<style>#sk-container-id-2 {color: black;background-color: white;}#sk-container-id-2 pre{padding: 0;}#sk-container-id-2 div.sk-toggleable {background-color: white;}#sk-container-id-2 label.sk-toggleable__label {cursor: pointer;display: block;width: 100%;margin-bottom: 0;padding: 0.3em;box-sizing: border-box;text-align: center;}#sk-container-id-2 label.sk-toggleable__label-arrow:before {content: \"▸\";float: left;margin-right: 0.25em;color: #696969;}#sk-container-id-2 label.sk-toggleable__label-arrow:hover:before {color: black;}#sk-container-id-2 div.sk-estimator:hover label.sk-toggleable__label-arrow:before {color: black;}#sk-container-id-2 div.sk-toggleable__content {max-height: 0;max-width: 0;overflow: hidden;text-align: left;background-color: #f0f8ff;}#sk-container-id-2 div.sk-toggleable__content pre {margin: 0.2em;color: black;border-radius: 0.25em;background-color: #f0f8ff;}#sk-container-id-2 input.sk-toggleable__control:checked~div.sk-toggleable__content {max-height: 200px;max-width: 100%;overflow: auto;}#sk-container-id-2 input.sk-toggleable__control:checked~label.sk-toggleable__label-arrow:before {content: \"▾\";}#sk-container-id-2 div.sk-estimator input.sk-toggleable__control:checked~label.sk-toggleable__label {background-color: #d4ebff;}#sk-container-id-2 div.sk-label input.sk-toggleable__control:checked~label.sk-toggleable__label {background-color: #d4ebff;}#sk-container-id-2 input.sk-hidden--visually {border: 0;clip: rect(1px 1px 1px 1px);clip: rect(1px, 1px, 1px, 1px);height: 1px;margin: -1px;overflow: hidden;padding: 0;position: absolute;width: 1px;}#sk-container-id-2 div.sk-estimator {font-family: monospace;background-color: #f0f8ff;border: 1px dotted black;border-radius: 0.25em;box-sizing: border-box;margin-bottom: 0.5em;}#sk-container-id-2 div.sk-estimator:hover {background-color: #d4ebff;}#sk-container-id-2 div.sk-parallel-item::after {content: \"\";width: 100%;border-bottom: 1px solid gray;flex-grow: 1;}#sk-container-id-2 div.sk-label:hover label.sk-toggleable__label {background-color: #d4ebff;}#sk-container-id-2 div.sk-serial::before {content: \"\";position: absolute;border-left: 1px solid gray;box-sizing: border-box;top: 0;bottom: 0;left: 50%;z-index: 0;}#sk-container-id-2 div.sk-serial {display: flex;flex-direction: column;align-items: center;background-color: white;padding-right: 0.2em;padding-left: 0.2em;position: relative;}#sk-container-id-2 div.sk-item {position: relative;z-index: 1;}#sk-container-id-2 div.sk-parallel {display: flex;align-items: stretch;justify-content: center;background-color: white;position: relative;}#sk-container-id-2 div.sk-item::before, #sk-container-id-2 div.sk-parallel-item::before {content: \"\";position: absolute;border-left: 1px solid gray;box-sizing: border-box;top: 0;bottom: 0;left: 50%;z-index: -1;}#sk-container-id-2 div.sk-parallel-item {display: flex;flex-direction: column;z-index: 1;position: relative;background-color: white;}#sk-container-id-2 div.sk-parallel-item:first-child::after {align-self: flex-end;width: 50%;}#sk-container-id-2 div.sk-parallel-item:last-child::after {align-self: flex-start;width: 50%;}#sk-container-id-2 div.sk-parallel-item:only-child::after {width: 0;}#sk-container-id-2 div.sk-dashed-wrapped {border: 1px dashed gray;margin: 0 0.4em 0.5em 0.4em;box-sizing: border-box;padding-bottom: 0.4em;background-color: white;}#sk-container-id-2 div.sk-label label {font-family: monospace;font-weight: bold;display: inline-block;line-height: 1.2em;}#sk-container-id-2 div.sk-label-container {text-align: center;}#sk-container-id-2 div.sk-container {/* jupyter's `normalize.less` sets `[hidden] { display: none; }` but bootstrap.min.css set `[hidden] { display: none !important; }` so we also need the `!important` here to be able to override the default hidden behavior on the sphinx rendered scikit-learn.org. See: https://github.com/scikit-learn/scikit-learn/issues/21755 */display: inline-block !important;position: relative;}#sk-container-id-2 div.sk-text-repr-fallback {display: none;}</style><div id=\"sk-container-id-2\" class=\"sk-top-container\"><div class=\"sk-text-repr-fallback\"><pre>Pipeline(steps=[(&#x27;standardscaler&#x27;, StandardScaler()),\n",
       "                (&#x27;svc&#x27;, SVC(gamma=&#x27;auto&#x27;))])</pre><b>In a Jupyter environment, please rerun this cell to show the HTML representation or trust the notebook. <br />On GitHub, the HTML representation is unable to render, please try loading this page with nbviewer.org.</b></div><div class=\"sk-container\" hidden><div class=\"sk-item sk-dashed-wrapped\"><div class=\"sk-label-container\"><div class=\"sk-label sk-toggleable\"><input class=\"sk-toggleable__control sk-hidden--visually\" id=\"sk-estimator-id-4\" type=\"checkbox\" ><label for=\"sk-estimator-id-4\" class=\"sk-toggleable__label sk-toggleable__label-arrow\">Pipeline</label><div class=\"sk-toggleable__content\"><pre>Pipeline(steps=[(&#x27;standardscaler&#x27;, StandardScaler()),\n",
       "                (&#x27;svc&#x27;, SVC(gamma=&#x27;auto&#x27;))])</pre></div></div></div><div class=\"sk-serial\"><div class=\"sk-item\"><div class=\"sk-estimator sk-toggleable\"><input class=\"sk-toggleable__control sk-hidden--visually\" id=\"sk-estimator-id-5\" type=\"checkbox\" ><label for=\"sk-estimator-id-5\" class=\"sk-toggleable__label sk-toggleable__label-arrow\">StandardScaler</label><div class=\"sk-toggleable__content\"><pre>StandardScaler()</pre></div></div></div><div class=\"sk-item\"><div class=\"sk-estimator sk-toggleable\"><input class=\"sk-toggleable__control sk-hidden--visually\" id=\"sk-estimator-id-6\" type=\"checkbox\" ><label for=\"sk-estimator-id-6\" class=\"sk-toggleable__label sk-toggleable__label-arrow\">SVC</label><div class=\"sk-toggleable__content\"><pre>SVC(gamma=&#x27;auto&#x27;)</pre></div></div></div></div></div></div></div>"
      ],
      "text/plain": [
       "Pipeline(steps=[('standardscaler', StandardScaler()),\n",
       "                ('svc', SVC(gamma='auto'))])"
      ]
     },
     "execution_count": 166,
     "metadata": {},
     "output_type": "execute_result"
    }
   ],
   "source": [
    "model = make_pipeline(StandardScaler(), SVC(gamma = 'auto'))\n",
    "model.fit(X_train, Y_train)"
   ]
  },
  {
   "cell_type": "markdown",
   "id": "78b8770f-3a23-493b-a4d5-c2a7f7e59e22",
   "metadata": {},
   "source": [
    "### Testing the model"
   ]
  },
  {
   "cell_type": "code",
   "execution_count": 94,
   "id": "d05c2abf-685e-4c60-b94a-b4703d112d5e",
   "metadata": {
    "tags": []
   },
   "outputs": [
    {
     "name": "stdout",
     "output_type": "stream",
     "text": [
      "[1 0 2 1 2 0 1 2 1 1 2 0 0 0 0 2 2 1 1 1 0 1 0 1 2 2 1 2 0 0 0 0 2 0 0 1 2\n",
      " 0 0 0 1 2 2 0 0]\n"
     ]
    }
   ],
   "source": [
    "pred = model.predict(X_test)\n",
    "print(pred)"
   ]
  },
  {
   "cell_type": "markdown",
   "id": "b11a27f9-daa8-4142-a610-b63fbf96e3b1",
   "metadata": {},
   "source": [
    "### Confusion matrix"
   ]
  },
  {
   "cell_type": "code",
   "execution_count": 231,
   "id": "82ee892a-eed8-494e-ac65-51aa90ae9543",
   "metadata": {
    "tags": []
   },
   "outputs": [],
   "source": [
    "def Confusion_matrix(actual, pred):\n",
    "    classes = np.unique(actual)\n",
    "    confusion_matrix = np.zeros((len(classes), len(classes)))\n",
    "    for i in range(len(classes)):\n",
    "        for j in range(len(classes)):\n",
    "            confusion_matrix[i,j] = np.sum((actual == classes[i]) & (pred == classes[j]))\n",
    "    return confusion_matrix\n",
    "def metrics(confusion_matrix__):\n",
    "    precision__ = []\n",
    "    recall__ = []\n",
    "    for i in range(len(confusion_matrix__)):\n",
    "        for j in range(len(confusion_matrix__)):\n",
    "            if i == j:\n",
    "                precision__.append(confusion_matrix__[i,j]/sum(confusion_matrix__[:,i]))\n",
    "                recall__.append(confusion_matrix__[i,j]/sum(confusion_matrix__[i,:]))\n",
    "    F1_score = 2*(np.array(precision__ )*np.array(recall__))/(np.array(precision__) + np.array(recall__))\n",
    "    precision__ = np.mean(precision__)\n",
    "    recall__ = np.mean(recall__)\n",
    "    F1_score = np.mean(F1_score)\n",
    "    return precision__, recall__, F1_score"
   ]
  },
  {
   "cell_type": "code",
   "execution_count": 199,
   "id": "a69316b9-fece-45ba-9955-09ab9faf1593",
   "metadata": {
    "tags": []
   },
   "outputs": [
    {
     "name": "stdout",
     "output_type": "stream",
     "text": [
      "[[19.  0.  0.]\n",
      " [ 0.  7.  6.]\n",
      " [ 0.  6.  7.]]\n",
      "0.6923076923076922 0.6923076923076922 0.6923076923076922\n"
     ]
    }
   ],
   "source": [
    "confusion_matrix_ = Confusion_matrix(Y_test, pred)\n",
    "print(confusion_matrix_)\n",
    "precision, recall, F1_score = metrics(confusion_matrix)\n",
    "print(precision, recall, F1_score)"
   ]
  },
  {
   "cell_type": "markdown",
   "id": "b6700bcb-de76-4646-b69b-0f183c64601a",
   "metadata": {},
   "source": [
    "### Testing if my evaluation metrics are correct"
   ]
  },
  {
   "cell_type": "code",
   "execution_count": 208,
   "id": "8fdc7da1-9027-4ab5-a39a-07e8c62129e0",
   "metadata": {
    "tags": []
   },
   "outputs": [
    {
     "name": "stdout",
     "output_type": "stream",
     "text": [
      "[[19  0  0]\n",
      " [ 0  7  6]\n",
      " [ 0  6  7]]\n",
      "Precision score: 0.6923076923076922\n",
      "recall score 0.6923076923076922\n",
      "f1_sore: 0.6923076923076922\n"
     ]
    }
   ],
   "source": [
    "from sklearn.metrics import confusion_matrix, precision_score, recall_score, f1_score\n",
    "print(confusion_matrix(Y_test, pred))\n",
    "print('Precision score:',precision_score(Y_test, pred, average = 'macro'))\n",
    "print('recall score',recall_score(Y_test, pred, average = 'macro'))\n",
    "print('f1_sore:',f1_score(Y_test, pred, average = 'macro'))"
   ]
  },
  {
   "cell_type": "markdown",
   "id": "e4ca2a6a-fc9d-4df6-8927-38aabc24abd3",
   "metadata": {},
   "source": [
    "# Handwritten digits"
   ]
  },
  {
   "cell_type": "code",
   "execution_count": 187,
   "id": "a344f74a-8251-4f6f-a1ed-fcc04bf49f92",
   "metadata": {
    "tags": []
   },
   "outputs": [],
   "source": [
    "from sklearn.datasets import load_digits\n",
    "from sklearn import svm\n",
    "digits = load_digits()\n",
    "# print(digits)\n",
    "n = len(digits.images)\n",
    "x = digits.images.reshape((n,-1))\n",
    "y = digits.target"
   ]
  },
  {
   "cell_type": "code",
   "execution_count": 188,
   "id": "78bb31a4-eaa9-4775-8363-b0151206b548",
   "metadata": {
    "tags": []
   },
   "outputs": [],
   "source": [
    "X_train_d,X_test_d,Y_train_d,Y_test_d = train_test_split(x, y, test_size = 0.3, random_state = 42)"
   ]
  },
  {
   "cell_type": "code",
   "execution_count": 189,
   "id": "63be287d-bc95-454d-9b19-55929514106f",
   "metadata": {
    "tags": []
   },
   "outputs": [
    {
     "data": {
      "text/html": [
       "<style>#sk-container-id-5 {color: black;background-color: white;}#sk-container-id-5 pre{padding: 0;}#sk-container-id-5 div.sk-toggleable {background-color: white;}#sk-container-id-5 label.sk-toggleable__label {cursor: pointer;display: block;width: 100%;margin-bottom: 0;padding: 0.3em;box-sizing: border-box;text-align: center;}#sk-container-id-5 label.sk-toggleable__label-arrow:before {content: \"▸\";float: left;margin-right: 0.25em;color: #696969;}#sk-container-id-5 label.sk-toggleable__label-arrow:hover:before {color: black;}#sk-container-id-5 div.sk-estimator:hover label.sk-toggleable__label-arrow:before {color: black;}#sk-container-id-5 div.sk-toggleable__content {max-height: 0;max-width: 0;overflow: hidden;text-align: left;background-color: #f0f8ff;}#sk-container-id-5 div.sk-toggleable__content pre {margin: 0.2em;color: black;border-radius: 0.25em;background-color: #f0f8ff;}#sk-container-id-5 input.sk-toggleable__control:checked~div.sk-toggleable__content {max-height: 200px;max-width: 100%;overflow: auto;}#sk-container-id-5 input.sk-toggleable__control:checked~label.sk-toggleable__label-arrow:before {content: \"▾\";}#sk-container-id-5 div.sk-estimator input.sk-toggleable__control:checked~label.sk-toggleable__label {background-color: #d4ebff;}#sk-container-id-5 div.sk-label input.sk-toggleable__control:checked~label.sk-toggleable__label {background-color: #d4ebff;}#sk-container-id-5 input.sk-hidden--visually {border: 0;clip: rect(1px 1px 1px 1px);clip: rect(1px, 1px, 1px, 1px);height: 1px;margin: -1px;overflow: hidden;padding: 0;position: absolute;width: 1px;}#sk-container-id-5 div.sk-estimator {font-family: monospace;background-color: #f0f8ff;border: 1px dotted black;border-radius: 0.25em;box-sizing: border-box;margin-bottom: 0.5em;}#sk-container-id-5 div.sk-estimator:hover {background-color: #d4ebff;}#sk-container-id-5 div.sk-parallel-item::after {content: \"\";width: 100%;border-bottom: 1px solid gray;flex-grow: 1;}#sk-container-id-5 div.sk-label:hover label.sk-toggleable__label {background-color: #d4ebff;}#sk-container-id-5 div.sk-serial::before {content: \"\";position: absolute;border-left: 1px solid gray;box-sizing: border-box;top: 0;bottom: 0;left: 50%;z-index: 0;}#sk-container-id-5 div.sk-serial {display: flex;flex-direction: column;align-items: center;background-color: white;padding-right: 0.2em;padding-left: 0.2em;position: relative;}#sk-container-id-5 div.sk-item {position: relative;z-index: 1;}#sk-container-id-5 div.sk-parallel {display: flex;align-items: stretch;justify-content: center;background-color: white;position: relative;}#sk-container-id-5 div.sk-item::before, #sk-container-id-5 div.sk-parallel-item::before {content: \"\";position: absolute;border-left: 1px solid gray;box-sizing: border-box;top: 0;bottom: 0;left: 50%;z-index: -1;}#sk-container-id-5 div.sk-parallel-item {display: flex;flex-direction: column;z-index: 1;position: relative;background-color: white;}#sk-container-id-5 div.sk-parallel-item:first-child::after {align-self: flex-end;width: 50%;}#sk-container-id-5 div.sk-parallel-item:last-child::after {align-self: flex-start;width: 50%;}#sk-container-id-5 div.sk-parallel-item:only-child::after {width: 0;}#sk-container-id-5 div.sk-dashed-wrapped {border: 1px dashed gray;margin: 0 0.4em 0.5em 0.4em;box-sizing: border-box;padding-bottom: 0.4em;background-color: white;}#sk-container-id-5 div.sk-label label {font-family: monospace;font-weight: bold;display: inline-block;line-height: 1.2em;}#sk-container-id-5 div.sk-label-container {text-align: center;}#sk-container-id-5 div.sk-container {/* jupyter's `normalize.less` sets `[hidden] { display: none; }` but bootstrap.min.css set `[hidden] { display: none !important; }` so we also need the `!important` here to be able to override the default hidden behavior on the sphinx rendered scikit-learn.org. See: https://github.com/scikit-learn/scikit-learn/issues/21755 */display: inline-block !important;position: relative;}#sk-container-id-5 div.sk-text-repr-fallback {display: none;}</style><div id=\"sk-container-id-5\" class=\"sk-top-container\"><div class=\"sk-text-repr-fallback\"><pre>SVC(gamma=0.01)</pre><b>In a Jupyter environment, please rerun this cell to show the HTML representation or trust the notebook. <br />On GitHub, the HTML representation is unable to render, please try loading this page with nbviewer.org.</b></div><div class=\"sk-container\" hidden><div class=\"sk-item\"><div class=\"sk-estimator sk-toggleable\"><input class=\"sk-toggleable__control sk-hidden--visually\" id=\"sk-estimator-id-11\" type=\"checkbox\" checked><label for=\"sk-estimator-id-11\" class=\"sk-toggleable__label sk-toggleable__label-arrow\">SVC</label><div class=\"sk-toggleable__content\"><pre>SVC(gamma=0.01)</pre></div></div></div></div></div>"
      ],
      "text/plain": [
       "SVC(gamma=0.01)"
      ]
     },
     "execution_count": 189,
     "metadata": {},
     "output_type": "execute_result"
    }
   ],
   "source": [
    "digits_model = svm.SVC(gamma = 0.01)\n",
    "digits_model.fit(X_train_d, Y_train_d)"
   ]
  },
  {
   "cell_type": "code",
   "execution_count": 192,
   "id": "0a6465e6-2b2e-4498-93ed-9212c4983f04",
   "metadata": {
    "tags": []
   },
   "outputs": [
    {
     "name": "stdout",
     "output_type": "stream",
     "text": [
      "[6 9 3 7 2 8 5 8 8 8 1 9 8 0 4 2 3 7 8 8 4 3 8 8 8 6 3 5 6 8 4 9 8 4 4 6 9\n",
      " 4 7 6 6 9 1 3 8 1 3 0 6 5 8 1 8 8 6 0 8 8 0 1 8 4 8 2 4 5 7 8 8 8 9 8 5 8\n",
      " 7 8 8 5 5 9 9 8 2 3 8 0 6 4 4 8 1 2 8 3 8 2 9 8 4 4 4 3 8 8 1 8 8 8 8 8 7\n",
      " 7 4 4 8 9 8 8 8 7 2 6 8 8 8 7 2 7 5 8 8 8 8 8 8 6 6 4 2 8 0 9 4 6 8 9 6 9\n",
      " 0 8 8 8 6 8 6 4 8 8 3 8 7 2 9 0 4 5 8 6 8 9 8 8 4 2 1 3 7 8 2 2 3 8 8 8 3\n",
      " 2 8 5 6 9 9 8 1 8 4 2 3 8 4 8 5 8 5 7 8 9 4 8 1 5 8 4 9 6 1 8 6 0 4 5 2 7\n",
      " 8 6 4 8 6 0 3 2 3 6 8 1 8 1 4 7 6 8 8 8 8 8 8 2 8 8 8 8 7 8 2 2 2 3 8 8 8\n",
      " 8 6 0 9 7 8 0 1 8 4 8 1 5 3 6 0 4 1 0 8 8 6 8 9 7 3 8 8 9 8 8 5 8 3 8 0 8\n",
      " 8 3 4 0 8 4 6 4 3 4 8 0 5 2 1 3 8 4 8 1 8 8 8 8 2 1 2 8 7 0 6 8 8 8 5 1 8\n",
      " 4 5 8 7 9 8 8 8 8 8 0 7 9 8 9 5 2 7 7 1 8 7 8 3 8 8 5 8 0 0 3 0 8 8 0 8 1\n",
      " 2 8 4 5 8 6 3 1 8 8 4 2 3 8 8 8 8 8 0 6 3 3 7 1 6 4 8 2 1 1 8 8 8 4 8 3 4\n",
      " 8 8 1 8 4 8 7 6 3 7 0 8 9 7 8 9 8 4 8 1 9 8 7 5 8 3 6 3 8 6 9 5 0 1 5 5 8\n",
      " 8 8 6 2 8 5 8 2 0 8 7 3 7 0 2 2 8 5 8 7 3 6 8 8 8 2 8 6 3 0 7 1 1 9 8 1 8\n",
      " 8 0 8 9 3 9 8 3 7 7 1 3 5 4 8 8 2 8 1 8 8 6 9 8 8 8 8 8 8 7 1 3 1 7 8 8 5\n",
      " 1 7 0 8 8 2 6 8 4 8 9 0 6 7 7 9 8 8 7 0 7 6]\n"
     ]
    }
   ],
   "source": [
    "pred_d = digits_model.predict(X_test_d)\n",
    "print(pred_d)"
   ]
  },
  {
   "cell_type": "code",
   "execution_count": 232,
   "id": "b6ee150c-d5a4-4f26-b081-e3b4e9662498",
   "metadata": {
    "tags": []
   },
   "outputs": [
    {
     "name": "stdout",
     "output_type": "stream",
     "text": [
      "Confusion matrix:  \n",
      " [[33.  0.  0.  0.  0.  0.  0.  0. 20.  0.]\n",
      " [ 0. 37.  0.  0.  0.  0.  0.  0. 13.  0.]\n",
      " [ 0.  0. 35.  0.  0.  0.  0.  0. 12.  0.]\n",
      " [ 0.  0.  0. 40.  0.  0.  0.  0. 14.  0.]\n",
      " [ 0.  0.  0.  0. 44.  0.  0.  0. 16.  0.]\n",
      " [ 0.  0.  0.  0.  0. 30.  0.  0. 36.  0.]\n",
      " [ 0.  0.  0.  0.  0.  0. 42.  0. 11.  0.]\n",
      " [ 0.  0.  0.  0.  0.  0.  0. 42. 13.  0.]\n",
      " [ 0.  0.  0.  0.  0.  0.  0.  0. 43.  0.]\n",
      " [ 0.  0.  0.  0.  0.  0.  0.  0. 24. 35.]]\n",
      "Precision_score:  0.9212871287128713\n",
      "recall:  0.7185251421925414\n",
      "F1_score:  0.7639783952621424\n"
     ]
    }
   ],
   "source": [
    "conf_mat = Confusion_matrix(Y_test_d, pred_d)\n",
    "precision_d, recall_d, F1_score_d = metrics(conf_mat)\n",
    "print('Confusion matrix: ','\\n',conf_mat)\n",
    "print('Precision_score: ',precision_d)\n",
    "print('recall: ',recall_d)\n",
    "print('F1_score: ',F1_score_d)"
   ]
  },
  {
   "cell_type": "markdown",
   "id": "aa91c959-3ac6-4dcb-b115-3c791d846a3d",
   "metadata": {},
   "source": [
    "### Testing the metrics"
   ]
  },
  {
   "cell_type": "code",
   "execution_count": 224,
   "id": "84cd8141-e58c-40a8-b559-219ab36387e8",
   "metadata": {
    "tags": []
   },
   "outputs": [
    {
     "name": "stdout",
     "output_type": "stream",
     "text": [
      "confusion_matrix:  \n",
      " [[33  0  0  0  0  0  0  0 20  0]\n",
      " [ 0 37  0  0  0  0  0  0 13  0]\n",
      " [ 0  0 35  0  0  0  0  0 12  0]\n",
      " [ 0  0  0 40  0  0  0  0 14  0]\n",
      " [ 0  0  0  0 44  0  0  0 16  0]\n",
      " [ 0  0  0  0  0 30  0  0 36  0]\n",
      " [ 0  0  0  0  0  0 42  0 11  0]\n",
      " [ 0  0  0  0  0  0  0 42 13  0]\n",
      " [ 0  0  0  0  0  0  0  0 43  0]\n",
      " [ 0  0  0  0  0  0  0  0 24 35]]\n",
      "precision_score 0.9212871287128713\n",
      "recall_score 0.7185251421925414\n",
      "f1_score 0.7639783952621424\n"
     ]
    }
   ],
   "source": [
    "print('confusion_matrix: ','\\n',confusion_matrix(Y_test_d, pred_d))\n",
    "print('precision_score',precision_score(Y_test_d, pred_d, average = 'macro'))\n",
    "print('recall_score',recall_score(Y_test_d, pred_d, average = 'macro'))\n",
    "print('f1_score',f1_score(Y_test_d, pred_d, average = 'macro'))"
   ]
  },
  {
   "cell_type": "markdown",
   "id": "3c096b8d-c7de-4627-8fbd-6e667a118b7d",
   "metadata": {},
   "source": [
    "# Question 2"
   ]
  },
  {
   "cell_type": "markdown",
   "id": "9c8a2db1-7f88-4f78-b1f4-d3cce607ae8d",
   "metadata": {},
   "source": [
    "### data generation for PCA"
   ]
  },
  {
   "cell_type": "code",
   "execution_count": 115,
   "id": "e555a674-99f2-47a1-8ff3-5d9e230b747d",
   "metadata": {
    "tags": []
   },
   "outputs": [
    {
     "name": "stdout",
     "output_type": "stream",
     "text": [
      "[[ 0.36303258  0.04148954  0.43072167]\n",
      " [ 0.85654396  0.41024628  0.4019308 ]\n",
      " [-0.07444528 -0.81721541  0.82193246]\n",
      " ...\n",
      " [ 0.04803977  0.52630896 -0.39214849]\n",
      " [ 0.31325963  0.71168211 -0.68083661]\n",
      " [ 0.59677258  0.62430041 -0.06103208]]\n"
     ]
    }
   ],
   "source": [
    "import numpy as np\n",
    "\n",
    "from scipy import stats\n",
    "\n",
    "e = np.exp(1)\n",
    "np.random.seed(4)\n",
    "\n",
    "\n",
    "def pdf(x):\n",
    "    return 0.5 * (stats.norm(scale=0.25 / e).pdf(x) + stats.norm(scale=4 / e).pdf(x))\n",
    "\n",
    "\n",
    "y = np.random.normal(scale=0.5, size=(30000))\n",
    "x = np.random.normal(scale=0.5, size=(30000))\n",
    "z = np.random.normal(scale=0.1, size=len(x))\n",
    "\n",
    "density = pdf(x) * pdf(y)\n",
    "pdf_z = pdf(5 * z)\n",
    "\n",
    "density *= pdf_z\n",
    "\n",
    "a = x + y\n",
    "b = 2 * y\n",
    "c = a - b + z\n",
    "\n",
    "norm = np.sqrt(a.var() + b.var())\n",
    "a /= norm\n",
    "b /= norm\n",
    "X = np.c_[a,b,c]\n",
    "print(X)"
   ]
  },
  {
   "cell_type": "markdown",
   "id": "e0faf471-9642-4cbf-8b5a-0a95bb359634",
   "metadata": {},
   "source": [
    "### Calculating covariance matrix"
   ]
  },
  {
   "cell_type": "code",
   "execution_count": 106,
   "id": "9708d0bc-cc4a-44ff-b5f8-e3e12fec7580",
   "metadata": {
    "tags": []
   },
   "outputs": [
    {
     "name": "stdout",
     "output_type": "stream",
     "text": [
      "[[ 0.36315601  0.04191834  0.43079828]\n",
      " [ 0.85666739  0.41067508  0.40200741]\n",
      " [-0.07432184 -0.81678661  0.82200907]\n",
      " ...\n",
      " [ 0.04816321  0.52673775 -0.39207188]\n",
      " [ 0.31338307  0.71211091 -0.68076   ]\n",
      " [ 0.59689602  0.62472921 -0.06095547]]\n"
     ]
    }
   ],
   "source": [
    "for i in range(X.shape[1]):\n",
    "    X[:,i] -= X[:,i].mean()\n",
    "print(X)"
   ]
  },
  {
   "cell_type": "code",
   "execution_count": 131,
   "id": "178ed00e-862b-499f-9c55-e1b3ca8a5e0a",
   "metadata": {
    "tags": []
   },
   "outputs": [
    {
     "name": "stdout",
     "output_type": "stream",
     "text": [
      "[[ 0.33474793  0.33247163  0.00269065]\n",
      " [ 0.33247163  0.66525227 -0.40517834]\n",
      " [ 0.00269065 -0.40517834  0.50640659]]\n"
     ]
    }
   ],
   "source": [
    "cov_mat = np.around((1/len(X)) * (X.T @ X), decimals = 8)\n",
    "print(cov_mat)"
   ]
  },
  {
   "cell_type": "markdown",
   "id": "c40a0917-e8a5-47a6-bc7f-733f5ae71187",
   "metadata": {},
   "source": [
    "## Eigen value decomposition"
   ]
  },
  {
   "cell_type": "code",
   "execution_count": 118,
   "id": "97f7f3ac-ca59-4bcb-9ea7-a7cd049727f8",
   "metadata": {
    "tags": []
   },
   "outputs": [
    {
     "name": "stdout",
     "output_type": "stream",
     "text": [
      "[1.09076695 0.41317552 0.00246432] [[-0.33847728 -0.71096069 -0.61641546]\n",
      " [-0.7740061  -0.16217259  0.61205768]\n",
      " [ 0.53511464 -0.68427695  0.49539618]]\n"
     ]
    }
   ],
   "source": [
    "val, vec = np.linalg.eig(cov_mat)\n",
    "print(val, vec)"
   ]
  },
  {
   "cell_type": "code",
   "execution_count": 120,
   "id": "4d7926bd-745d-49bd-809c-1d248bfd8d0f",
   "metadata": {
    "tags": []
   },
   "outputs": [
    {
     "name": "stdout",
     "output_type": "stream",
     "text": [
      "[[1.09076695 0.         0.        ]\n",
      " [0.         0.41317552 0.        ]\n",
      " [0.         0.         0.00246432]]\n"
     ]
    }
   ],
   "source": [
    "λ = np.diag(val)\n",
    "print(λ)"
   ]
  },
  {
   "cell_type": "code",
   "execution_count": 135,
   "id": "8915e663-a3f8-49ee-9058-a832b75f3cb6",
   "metadata": {
    "tags": []
   },
   "outputs": [
    {
     "name": "stdout",
     "output_type": "stream",
     "text": [
      "[[ 0.33474793  0.33247163  0.00269065]\n",
      " [ 0.33247163  0.66525227 -0.40517834]\n",
      " [ 0.00269065 -0.40517834  0.50640659]]\n",
      "[[ True  True  True]\n",
      " [ True  True  True]\n",
      " [ True  True  True]]\n",
      "Hence the decomposition is proved\n"
     ]
    }
   ],
   "source": [
    "decomp_mat = np.around(np.dot(vec, np.dot(λ, np.linalg.inv(vec))), decimals = 8)\n",
    "print(decomp_mat)\n",
    "print(decomp_mat == cov_mat)\n",
    "print('Hence the decomposition is proved')"
   ]
  },
  {
   "cell_type": "markdown",
   "id": "804a28f3-5f16-4c59-b891-f4bc0f455aa0",
   "metadata": {},
   "source": [
    "## PCA"
   ]
  },
  {
   "cell_type": "code",
   "execution_count": 142,
   "id": "ba9d441d-f6ea-46bd-82e5-2cf6a7fc163a",
   "metadata": {
    "tags": []
   },
   "outputs": [
    {
     "name": "stdout",
     "output_type": "stream",
     "text": [
      "[ 0.01499297 -0.07777757 -0.04711155 ...  0.09825012 -0.09479143\n",
      " -0.01598704]\n",
      "(30000,)\n"
     ]
    }
   ],
   "source": [
    "pca_of_x = X @ vec[:,2]\n",
    "print(pca_of_x)\n",
    "print(pca_of_x.shape)"
   ]
  },
  {
   "cell_type": "markdown",
   "id": "0d1654fd-bc15-499e-8127-b04b4b09ecbc",
   "metadata": {},
   "source": [
    "### Checking the results"
   ]
  },
  {
   "cell_type": "code",
   "execution_count": 154,
   "id": "06c2ca27-ac1e-451b-ba29-5ac9e71383e2",
   "metadata": {
    "tags": []
   },
   "outputs": [
    {
     "name": "stdout",
     "output_type": "stream",
     "text": [
      "Covariance matrix according to sklearn:  [[ 0.33475907  0.33248266  0.00269073]\n",
      " [ 0.33248266  0.66527426 -0.40519188]\n",
      " [ 0.00269073 -0.40519188  0.50642346]]\n",
      "Eigen vectors according to sklearn:  [[-0.33847725 -0.77400604  0.53511475]\n",
      " [-0.7109608  -0.1621726  -0.68427684]\n",
      " [ 0.61641536 -0.61205775 -0.49539622]]\n",
      "PCA of X according to sklearn: [-0.04750414 -0.02148772  0.11218258 ... -0.14016537  0.01792614\n",
      " -0.07761744]\n"
     ]
    }
   ],
   "source": [
    "from sklearn.decomposition import PCA\n",
    "pca = PCA(n_components=3)\n",
    "pca.fit(X)\n",
    "cov = pca.get_covariance()\n",
    "V = pca.components_\n",
    "X_t = X @ V[:,2]\n",
    "print('Covariance matrix according to sklearn: ',cov)\n",
    "print('Eigen vectors according to sklearn: ',V)\n",
    "print('PCA of X according to sklearn:', X_t)"
   ]
  },
  {
   "cell_type": "code",
   "execution_count": 155,
   "id": "b85bb97a-429c-46ab-aeb3-b6cf7bd55698",
   "metadata": {
    "tags": []
   },
   "outputs": [
    {
     "name": "stdout",
     "output_type": "stream",
     "text": [
      "Covariance difference: [[ 1.11402963e-05  1.10295672e-05  7.86685113e-08]\n",
      " [ 1.10295672e-05  2.19941481e-05 -1.35385569e-05]\n",
      " [ 7.86685113e-08 -1.35385569e-05  1.68749908e-05]]\n",
      "Eign vector diffenece: [[ 3.09388140e-08 -6.30453540e-02  1.15153021e+00]\n",
      " [ 6.30453072e-02 -9.59211785e-09 -1.29633452e+00]\n",
      " [ 8.13007174e-02  7.22192010e-02 -9.90792394e-01]]\n",
      "X difference: [-0.0624971   0.05628985  0.15929413 ... -0.23841549  0.11271757\n",
      " -0.0616304 ]\n"
     ]
    }
   ],
   "source": [
    "print('Covariance difference:', cov - cov_mat)\n",
    "print('Eign vector diffenece:', V - vec)\n",
    "print('X difference:', X_t - pca_of_x)"
   ]
  },
  {
   "cell_type": "markdown",
   "id": "41ef00e4-85e8-467e-bd86-b056198dc716",
   "metadata": {},
   "source": [
    "#### By observing the error, we can say that it's not huge. Even though I did not get exact results, I got pretty close results. This error may be due to rounding off of covariance and eigen vectors(not sure)."
   ]
  }
 ],
 "metadata": {
  "kernelspec": {
   "display_name": "Python 3 (ipykernel)",
   "language": "python",
   "name": "python3"
  },
  "language_info": {
   "codemirror_mode": {
    "name": "ipython",
    "version": 3
   },
   "file_extension": ".py",
   "mimetype": "text/x-python",
   "name": "python",
   "nbconvert_exporter": "python",
   "pygments_lexer": "ipython3",
   "version": "3.8.10"
  }
 },
 "nbformat": 4,
 "nbformat_minor": 5
}
