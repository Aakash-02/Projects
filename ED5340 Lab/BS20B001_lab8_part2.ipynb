{
 "cells": [
  {
   "cell_type": "code",
   "execution_count": 1,
   "id": "34adc22c-c470-45fe-9699-8b63af764f2c",
   "metadata": {
    "tags": []
   },
   "outputs": [],
   "source": [
    "import numpy as np\n",
    "import matplotlib.pyplot as plt"
   ]
  },
  {
   "cell_type": "code",
   "execution_count": 44,
   "id": "eba455f2-b38e-4bdc-aac1-d0cf9a79b965",
   "metadata": {
    "tags": []
   },
   "outputs": [],
   "source": [
    "def J(w):\n",
    "    r = np.array([10,10])\n",
    "    return np.sum(np.square(w-r))\n",
    "def grad(w):\n",
    "    r = np.array([10,10])\n",
    "    return 2*(np.sum(w-r))\n",
    "\n",
    "def gradient_descent(w0,a,e):\n",
    "    \n",
    "    trj = []\n",
    "    for i in range(e):\n",
    "        w0[0] -= a*grad(w0)\n",
    "        w0[1] -= a*grad(w0)\n",
    "        trj.append(w0)\n",
    "    return w0,trj"
   ]
  },
  {
   "cell_type": "code",
   "execution_count": 70,
   "id": "2204df8a-b1ef-4674-923c-2dfb9de34287",
   "metadata": {
    "tags": []
   },
   "outputs": [
    {
     "ename": "TypeError",
     "evalue": "gradient_descent() got multiple values for argument 'w0'",
     "output_type": "error",
     "traceback": [
      "\u001b[0;31m---------------------------------------------------------------------------\u001b[0m",
      "\u001b[0;31mTypeError\u001b[0m                                 Traceback (most recent call last)",
      "Cell \u001b[0;32mIn[70], line 1\u001b[0m\n\u001b[0;32m----> 1\u001b[0m cor, trj \u001b[38;5;241m=\u001b[39m \u001b[43mgradient_descent\u001b[49m\u001b[43m(\u001b[49m\u001b[38;5;241;43m0.001\u001b[39;49m\u001b[43m,\u001b[49m\u001b[38;5;241;43m100\u001b[39;49m\u001b[43m,\u001b[49m\u001b[43mw0\u001b[49m\u001b[43m \u001b[49m\u001b[38;5;241;43m=\u001b[39;49m\u001b[43m \u001b[49m\u001b[43mnp\u001b[49m\u001b[38;5;241;43m.\u001b[39;49m\u001b[43marray\u001b[49m\u001b[43m(\u001b[49m\u001b[43m[\u001b[49m\u001b[38;5;241;43m2.0\u001b[39;49m\u001b[43m,\u001b[49m\u001b[38;5;241;43m5.0\u001b[39;49m\u001b[43m]\u001b[49m\u001b[43m)\u001b[49m\u001b[43m)\u001b[49m\n\u001b[1;32m      2\u001b[0m \u001b[38;5;28mprint\u001b[39m(cor, trj)\n",
      "\u001b[0;31mTypeError\u001b[0m: gradient_descent() got multiple values for argument 'w0'"
     ]
    }
   ],
   "source": [
    "cor, trj = gradient_descent(0.001,100,w0 = np.array([2.0,5.0]))\n",
    "print(cor, trj)"
   ]
  },
  {
   "cell_type": "code",
   "execution_count": null,
   "id": "451c40d7-5491-4d98-914a-85b55aa937c5",
   "metadata": {},
   "outputs": [],
   "source": []
  }
 ],
 "metadata": {
  "kernelspec": {
   "display_name": "Python 3 (ipykernel)",
   "language": "python",
   "name": "python3"
  },
  "language_info": {
   "codemirror_mode": {
    "name": "ipython",
    "version": 3
   },
   "file_extension": ".py",
   "mimetype": "text/x-python",
   "name": "python",
   "nbconvert_exporter": "python",
   "pygments_lexer": "ipython3",
   "version": "3.8.10"
  }
 },
 "nbformat": 4,
 "nbformat_minor": 5
}
